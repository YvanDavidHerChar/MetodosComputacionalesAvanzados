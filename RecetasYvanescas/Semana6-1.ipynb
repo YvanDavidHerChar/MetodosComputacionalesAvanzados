{
 "cells": [
  {
   "cell_type": "code",
   "execution_count": 1,
   "metadata": {},
   "outputs": [],
   "source": [
    "import numpy as np\n",
    "import matplotlib \n",
    "matplotlib.use('Agg')\n",
    "import matplotlib.pyplot as plt\n",
    "import pandas as pd\n",
    "%matplotlib inline"
   ]
  },
  {
   "cell_type": "code",
   "execution_count": 2,
   "metadata": {},
   "outputs": [],
   "source": [
    "spamreader = pd.read_csv(\"fitting.txt\", sep=\" \")\n",
    "x_obs=np.array(spamreader[\"#\"])\n",
    "y_obs=np.array(spamreader[\"x\"])\n",
    "sigma_y_obs = np.array(spamreader[\"y\"])"
   ]
  },
  {
   "cell_type": "code",
   "execution_count": 3,
   "metadata": {},
   "outputs": [
    {
     "data": {
      "text/plain": [
       "<matplotlib.collections.PathCollection at 0x7ff1f6932d30>"
      ]
     },
     "execution_count": 3,
     "metadata": {},
     "output_type": "execute_result"
    },
    {
     "data": {
      "image/png": "[encoded data removed]",
      "text/plain": [
       "<Figure size 432x288 with 1 Axes>"
      ]
     },
     "metadata": {},
     "output_type": "display_data"
    }
   ],
   "source": [
    "plt.scatter(x_obs,y_obs)"
   ]
  },
  {
   "cell_type": "code",
   "execution_count": 7,
   "metadata": {},
   "outputs": [],
   "source": [
    "def prior(p):\n",
    "    param = np.random.random(size=p)*2-1\n",
    "    return param\n",
    "\n",
    "def modelo(x,param):\n",
    "    p = len(param)\n",
    "    y=x.copy()\n",
    "    y[:]=0\n",
    "    for i in range(p):\n",
    "        y+=param[i]*(x**i)\n",
    "    return y\n",
    "\n",
    "def loglikelihood(x_obs, y_obs, sigma_y_obs, param):\n",
    "    #Usando Gauss\n",
    "    d = y_obs -  modelo(x_obs, param)\n",
    "    d = -0.5*d**2/sigma_y_obs**2\n",
    "    d = d-np.log(np.sqrt(2*np.pi*sigma_y_obs))\n",
    "    d = np.sum(d)\n",
    "    return d"
   ]
  },
  {
   "cell_type": "code",
   "execution_count": 12,
   "metadata": {},
   "outputs": [],
   "source": [
    "def integral(x_obs, y_obs, sigma_y_obs, N=10000, p=3):\n",
    "    likes = []\n",
    "    for i in range(N):\n",
    "        betas = prior(p)\n",
    "        b = loglikelihood(x_obs, y_obs, sigma_y_obs, betas)\n",
    "        likes.append(np.exp(b))\n",
    "    prom = np.mean(likes)\n",
    "    \n",
    "    return prom\n",
    "    "
   ]
  },
  {
   "cell_type": "code",
   "execution_count": 15,
   "metadata": {},
   "outputs": [
    {
     "data": {
      "text/plain": [
       "4.297480943231863e-25"
      ]
     },
     "execution_count": 15,
     "metadata": {},
     "output_type": "execute_result"
    }
   ],
   "source": [
    "integral(x_obs, y_obs, sigma_y_obs)"
   ]
  },
  {
   "cell_type": "code",
   "execution_count": null,
   "metadata": {},
   "outputs": [],
   "source": []
  },
  {
   "cell_type": "code",
   "execution_count": null,
   "metadata": {},
   "outputs": [],
   "source": []
  }
 ],
 "metadata": {
  "kernelspec": {
   "display_name": "Python 3",
   "language": "python",
   "name": "python3"
  },
  "language_info": {
   "codemirror_mode": {
    "name": "ipython",
    "version": 3
   },
   "file_extension": ".py",
   "mimetype": "text/x-python",
   "name": "python",
   "nbconvert_exporter": "python",
   "pygments_lexer": "ipython3",
   "version": "3.6.5"
  }
 },
 "nbformat": 4,
 "nbformat_minor": 2
}
