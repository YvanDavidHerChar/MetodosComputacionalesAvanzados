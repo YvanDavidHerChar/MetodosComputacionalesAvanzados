{
 "cells": [
  {
   "cell_type": "code",
   "execution_count": 1,
   "metadata": {},
   "outputs": [],
   "source": [
    "import numpy as np\n",
    "import matplotlib \n",
    "matplotlib.use('Agg')\n",
    "import matplotlib.pyplot as plt\n",
    "import pandas as pd\n",
    "%matplotlib inline"
   ]
  },
  {
   "cell_type": "code",
   "execution_count": 2,
   "metadata": {},
   "outputs": [],
   "source": [
    "spamreader = pd.read_csv(\"fitting.txt\", sep=\" \")\n",
    "x_obs=np.array(spamreader[\"#\"])\n",
    "y_obs=np.array(spamreader[\"x\"])\n",
    "sigma_y_obs = np.array(spamreader[\"y\"])"
   ]
  },
  {
   "cell_type": "code",
   "execution_count": 3,
   "metadata": {},
   "outputs": [
    {
     "data": {
      "text/plain": [
       "<matplotlib.collections.PathCollection at 0x7fa3d3308710>"
      ]
     },
     "execution_count": 3,
     "metadata": {},
     "output_type": "execute_result"
    },
    {
     "data": {
      "image/png": "[encoded data removed]",
      "text/plain": [
       "<Figure size 432x288 with 1 Axes>"
      ]
     },
     "metadata": {
      "needs_background": "light"
     },
     "output_type": "display_data"
    }
   ],
   "source": [
    "plt.scatter(x_obs,y_obs)"
   ]
  },
  {
   "cell_type": "code",
   "execution_count": 25,
   "metadata": {},
   "outputs": [],
   "source": [
    "def prior(p):\n",
    "    param = np.random.random(size=p)*2-1\n",
    "    return param\n",
    "\n",
    "def modelo(x,param):\n",
    "    p = len(param)\n",
    "    y=x.copy()\n",
    "    y=0\n",
    "    y= y+ param[0]\n",
    "    for i in range(1,p):\n",
    "        y+=param[i]*(x**i)\n",
    "    return y\n",
    "\n",
    "def loglikelihood(x_obs, y_obs, sigma_y_obs, param):\n",
    "    #Usando Gauss\n",
    "    d = y_obs -  modelo(x_obs, param)\n",
    "    d = -0.5*d**2/sigma_y_obs**2\n",
    "    d = d-np.log(np.sqrt(2*np.pi*sigma_y_obs))\n",
    "    d = np.sum(d)\n",
    "    return d"
   ]
  },
  {
   "cell_type": "code",
   "execution_count": 26,
   "metadata": {},
   "outputs": [],
   "source": [
    "def integral(x_obs, y_obs, sigma_y_obs, N=1000, p=3):\n",
    "    likes = []\n",
    "    for i in range(N):\n",
    "        betas = prior(p)\n",
    "        b = loglikelihood(x_obs, y_obs, sigma_y_obs, betas)\n",
    "        likes.append(np.exp(b))\n",
    "    prom = np.mean(likes)\n",
    "    \n",
    "    return prom\n",
    "    "
   ]
  },
  {
   "cell_type": "code",
   "execution_count": 34,
   "metadata": {},
   "outputs": [
    {
     "data": {
      "text/plain": [
       "1.3099206600371734e-27"
      ]
     },
     "execution_count": 34,
     "metadata": {},
     "output_type": "execute_result"
    }
   ],
   "source": [
    "integral(x_obs, y_obs, sigma_y_obs,N=10000,p=2)"
   ]
  },
  {
   "cell_type": "code",
   "execution_count": 35,
   "metadata": {},
   "outputs": [],
   "source": [
    "integrales =[]\n",
    "losi = []\n",
    "for i in range(1,19):\n",
    "    losi.append(i)\n",
    "    integrales.append(integral(x_obs, y_obs, sigma_y_obs,N=10000,p=i))"
   ]
  },
  {
   "cell_type": "code",
   "execution_count": 38,
   "metadata": {},
   "outputs": [
    {
     "name": "stdout",
     "output_type": "stream",
     "text": [
      "[9.076153958525562e-38, 2.3323855586580274e-28, 2.03765885305182e-22, 1.598033311383173e-07, 8.453672749500999e-32, 5.490281702043344e-28, 2.506718913013195e-70, 9.242294810331409e-59, 2.779332212856816e-24, 2.06072593445759e-90, 1.613751886331166e-60, 1.128291335977553e-21, 1.60199836265604e-55, 1.5466061940482367e-58, 4.79017173957625e-41, 1.0890349664587445e-84, 4.120992733962213e-85, 7.5175154863089575e-53]\n"
     ]
    },
    {
     "data": {
      "image/png": "[encoded data removed]",
      "text/plain": [
       "<Figure size 432x288 with 1 Axes>"
      ]
     },
     "metadata": {
      "needs_background": "light"
     },
     "output_type": "display_data"
    }
   ],
   "source": [
    "plt.scatter(losi,integrales)\n",
    "print(integrales)\n",
    "\n"
   ]
  },
  {
   "cell_type": "code",
   "execution_count": null,
   "metadata": {},
   "outputs": [],
   "source": []
  }
 ],
 "metadata": {
  "kernelspec": {
   "display_name": "Python 3",
   "language": "python",
   "name": "python3"
  },
  "language_info": {
   "codemirror_mode": {
    "name": "ipython",
    "version": 3
   },
   "file_extension": ".py",
   "mimetype": "text/x-python",
   "name": "python",
   "nbconvert_exporter": "python",
   "pygments_lexer": "ipython3",
   "version": "3.6.6"
  }
 },
 "nbformat": 4,
 "nbformat_minor": 2
}
