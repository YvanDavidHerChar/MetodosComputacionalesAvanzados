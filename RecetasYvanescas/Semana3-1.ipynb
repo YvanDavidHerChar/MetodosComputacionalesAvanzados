{
 "cells": [
  {
   "cell_type": "code",
   "execution_count": 2,
   "metadata": {},
   "outputs": [],
   "source": [
    "import numpy as np\n",
    "import matplotlib.pyplot as plt"
   ]
  },
  {
   "cell_type": "code",
   "execution_count": 7,
   "metadata": {},
   "outputs": [
    {
     "ename": "SyntaxError",
     "evalue": "invalid syntax (<ipython-input-7-a7ed696b9127>, line 6)",
     "output_type": "error",
     "traceback": [
      "\u001b[0;36m  File \u001b[0;32m\"<ipython-input-7-a7ed696b9127>\"\u001b[0;36m, line \u001b[0;32m6\u001b[0m\n\u001b[0;31m    lambda = 0.7\u001b[0m\n\u001b[0m           ^\u001b[0m\n\u001b[0;31mSyntaxError\u001b[0m\u001b[0;31m:\u001b[0m invalid syntax\n"
     ]
    }
   ],
   "source": [
    "n=100000\n",
    "Sociedad=np.arange(n, dtype=float)\n",
    "Fiscalia = np.arange(n, dtype=float)\n",
    "sigma = 0.1\n",
    "d = 3\n",
    "p = 0.7\n",
    "beta  = 5\n",
    "Gobierno=np.arange(-1,1,0.01)\n",
    "Inteligencia = np.arange(0,1,0.01)\n",
    "\n",
    "def gauss(x, sigma):\n",
    "    campanita= np.exp(-x**2/(2*sigma**2))/(np.sqrt(2*np.pi)*sigma)\n",
    "    return campanita\n",
    "def invExp(x,lambda):\n",
    "    colita = 1/x**2*np.exp(-p/x)\n",
    "    return colita\n",
    "\n",
    "oportunidades=gauss(Gobierno,sigma)\n",
    "aceptacionSocial = invExp(Inteligencia,p)"
   ]
  },
  {
   "cell_type": "code",
   "execution_count": null,
   "metadata": {},
   "outputs": [],
   "source": [
    "Sociedad[0] = 0.5\n",
    "Fiscalia[0] = 0.5\n",
    "\n",
    "\n",
    "counter1=0\n",
    "counter2=0\n",
    "for i in range(1,n,1):\n",
    "    candidato = Sociedad[i-1]+2*d*(np.random.uniform()-0.5)\n",
    "    candidato2 = Fiscalia[i-1]+2*d*(np.random.uniform()-0.5)\n",
    "    F = gauss(candidato,sigma)/gauss(Sociedad[i-1],sigma)\n",
    "    if candidato2 > 0:\n",
    "        G = beta(candidato,beta,alpha)/beta(candidato,beta,alpha)\n",
    "        if G>=1:\n",
    "        ## Aceptado en la sociedad\n",
    "        Fiscalia[i]= candidato2\n",
    "        counter2 =+ 1\n",
    "        else:\n",
    "            if np.random.uniform()<G:\n",
    "                ##Aceptado en la soceidad\n",
    "                Fiscalia[i] = candidato2\n",
    "                counter2 =+1\n",
    "            else:\n",
    "                Fiscalia[i] =Fiscalia[i-1]\n",
    "    if F>=1:\n",
    "        ## Aceptado en la sociedad\n",
    "        Sociedad[i]= candidato\n",
    "        counte1r =+ 1\n",
    "    else:\n",
    "        if np.random.uniform()<F:\n",
    "            ##Aceptado en la soceidad\n",
    "            Sociedad[i] = candidato\n",
    "            counter1 =+1\n",
    "        else:\n",
    "            Sociedad[i] =Sociedad[i-1]\n",
    "            "
   ]
  },
  {
   "cell_type": "code",
   "execution_count": null,
   "metadata": {},
   "outputs": [],
   "source": [
    "plt.hist(Fiscalia,bins=100,density=True)\n",
    "yoyo2 = counter2/n*0.1\n",
    "print(\"Acceptance Ratio \" + str(yoyo))\n",
    "plt.plot(Inteligencia,aceptacionSocial)"
   ]
  },
  {
   "cell_type": "code",
   "execution_count": 1,
   "metadata": {},
   "outputs": [
    {
     "ename": "NameError",
     "evalue": "name 'plt' is not defined",
     "output_type": "error",
     "traceback": [
      "\u001b[0;31m---------------------------------------------------------------------------\u001b[0m",
      "\u001b[0;31mNameError\u001b[0m                                 Traceback (most recent call last)",
      "\u001b[0;32m<ipython-input-1-f835114e1ca5>\u001b[0m in \u001b[0;36m<module>\u001b[0;34m()\u001b[0m\n\u001b[0;32m----> 1\u001b[0;31m \u001b[0mplt\u001b[0m\u001b[0;34m.\u001b[0m\u001b[0mhist\u001b[0m\u001b[0;34m(\u001b[0m\u001b[0mSociedad\u001b[0m\u001b[0;34m,\u001b[0m\u001b[0mbins\u001b[0m\u001b[0;34m=\u001b[0m\u001b[0;36m100\u001b[0m\u001b[0;34m,\u001b[0m\u001b[0mdensity\u001b[0m\u001b[0;34m=\u001b[0m\u001b[0;32mTrue\u001b[0m\u001b[0;34m)\u001b[0m\u001b[0;34m\u001b[0m\u001b[0m\n\u001b[0m\u001b[1;32m      2\u001b[0m \u001b[0myoyo\u001b[0m \u001b[0;34m=\u001b[0m \u001b[0mcounter\u001b[0m\u001b[0;34m/\u001b[0m\u001b[0mn\u001b[0m\u001b[0;34m*\u001b[0m\u001b[0;36m0.1\u001b[0m\u001b[0;34m\u001b[0m\u001b[0m\n\u001b[1;32m      3\u001b[0m \u001b[0mprint\u001b[0m\u001b[0;34m(\u001b[0m\u001b[0;34m\"Acceptance Ratio \"\u001b[0m \u001b[0;34m+\u001b[0m \u001b[0mstr\u001b[0m\u001b[0;34m(\u001b[0m\u001b[0myoyo\u001b[0m\u001b[0;34m)\u001b[0m\u001b[0;34m)\u001b[0m\u001b[0;34m\u001b[0m\u001b[0m\n\u001b[1;32m      4\u001b[0m \u001b[0mplt\u001b[0m\u001b[0;34m.\u001b[0m\u001b[0mplot\u001b[0m\u001b[0;34m(\u001b[0m\u001b[0mGobierno\u001b[0m\u001b[0;34m,\u001b[0m\u001b[0moportunidades\u001b[0m\u001b[0;34m)\u001b[0m\u001b[0;34m\u001b[0m\u001b[0m\n",
      "\u001b[0;31mNameError\u001b[0m: name 'plt' is not defined"
     ]
    }
   ],
   "source": [
    "plt.hist(Sociedad,bins=100,density=True)\n",
    "yoyo = counter/n*0.1\n",
    "print(\"Acceptance Ratio \" + str(yoyo))\n",
    "plt.plot(Gobierno,oportunidades)"
   ]
  },
  {
   "cell_type": "code",
   "execution_count": null,
   "metadata": {},
   "outputs": [],
   "source": []
  },
  {
   "cell_type": "code",
   "execution_count": null,
   "metadata": {},
   "outputs": [],
   "source": []
  }
 ],
 "metadata": {
  "kernelspec": {
   "display_name": "Python 3",
   "language": "python",
   "name": "python3"
  },
  "language_info": {
   "codemirror_mode": {
    "name": "ipython",
    "version": 3
   },
   "file_extension": ".py",
   "mimetype": "text/x-python",
   "name": "python",
   "nbconvert_exporter": "python",
   "pygments_lexer": "ipython3",
   "version": "3.6.5"
  }
 },
 "nbformat": 4,
 "nbformat_minor": 2
}
