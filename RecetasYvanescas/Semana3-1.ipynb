{
 "cells": [
  {
   "cell_type": "code",
   "execution_count": 43,
   "metadata": {},
   "outputs": [],
   "source": [
    "import numpy as np\n",
    "import matplotlib.pyplot as plt"
   ]
  },
  {
   "cell_type": "code",
   "execution_count": 48,
   "metadata": {},
   "outputs": [],
   "source": [
    "n=100000\n",
    "Sociedad=np.arange(n, dtype=float)\n",
    "Fiscalia = np.arange(n, dtype=float)\n",
    "sigma = 0.1\n",
    "d = 3\n",
    "p = 0.7\n",
    "beta  = 5\n",
    "Gobierno=np.arange(-1,1,0.01)\n",
    "Inteligencia = np.arange(0.0001,100,0.1)\n",
    "\n",
    "def gauss(x, sigma):\n",
    "    campanita= np.exp(-x**2/(2*sigma**2))/(np.sqrt(2*np.pi)*sigma)\n",
    "    return campanita\n",
    "\n",
    "def invExp(y,o):\n",
    "    colita = (1/y**2)*np.exp(-o/y)\n",
    "    return colita\n",
    "\n",
    "oportunidades=gauss(Gobierno,sigma)\n",
    "aceptacionSocial = invExp(Inteligencia,p)"
   ]
  },
  {
   "cell_type": "code",
   "execution_count": 49,
   "metadata": {},
   "outputs": [],
   "source": [
    "Sociedad[0] = 0.5\n",
    "Fiscalia[0] = 0.5\n",
    "\n",
    "\n",
    "counter1=0\n",
    "counter2=0\n",
    "for i in range(1,n,1):\n",
    "    candidato = Sociedad[i-1]+2*d*(np.random.uniform()-0.5)\n",
    "    candidato2 = Fiscalia[i-1]+2*d*(np.random.uniform()-0.5)\n",
    "    F = gauss(candidato,sigma)/gauss(Sociedad[i-1],sigma)\n",
    "    if candidato2 > 0:\n",
    "        G = invExp(candidato2,p)/invExp(Fiscalia[i-1],p)\n",
    "        if G>=1:\n",
    "        ## Aceptado en la sociedad\n",
    "            Fiscalia[i]= candidato2\n",
    "            counter2 = counter2+1\n",
    "        else:\n",
    "            if np.random.uniform()<G:\n",
    "                ##Aceptado en la soceidad\n",
    "                Fiscalia[i] = candidato2\n",
    "                counter2 =counter2+1\n",
    "            else:\n",
    "                Fiscalia[i] =Fiscalia[i-1]\n",
    "    else:\n",
    "        Fiscalia[i] =Fiscalia[i-1]\n",
    "    if F>=1:\n",
    "        ## Aceptado en la sociedad\n",
    "        Sociedad[i]= candidato\n",
    "        counter1 =counter1+1\n",
    "    else:\n",
    "        if np.random.uniform()<F:\n",
    "            ##Aceptado en la soceidad\n",
    "            Sociedad[i] = candidato\n",
    "            counter1 =counter1+1\n",
    "        else:\n",
    "            Sociedad[i] =Sociedad[i-1]\n",
    "            "
   ]
  },
  {
   "cell_type": "code",
   "execution_count": 51,
   "metadata": {},
   "outputs": [
    {
     "name": "stdout",
     "output_type": "stream",
     "text": [
      "Acceptance Ratio 43.980000000000004 %\n"
     ]
    },
    {
     "data": {
      "image/png": "[encoded data removed]",
      "text/plain": [
       "<Figure size 432x288 with 1 Axes>"
      ]
     },
     "metadata": {},
     "output_type": "display_data"
    }
   ],
   "source": [
    "plt.hist(Fiscalia,bins=100,density=True)\n",
    "yoyo2 = counter2/n*100\n",
    "print(\"Acceptance Ratio \" + str(yoyo2) + \" %\")\n",
    "#plt.plot(Inteligencia,aceptacionSocial)"
   ]
  },
  {
   "cell_type": "code",
   "execution_count": 47,
   "metadata": {},
   "outputs": [
    {
     "name": "stdout",
     "output_type": "stream",
     "text": [
      "Acceptance Ratio 5.356000000000001 %\n"
     ]
    },
    {
     "data": {
      "text/plain": [
       "[<matplotlib.lines.Line2D at 0x7f4da0c4d1d0>]"
      ]
     },
     "execution_count": 47,
     "metadata": {},
     "output_type": "execute_result"
    },
    {
     "data": {
      "image/png": "[encoded data removed]",
      "text/plain": [
       "<Figure size 432x288 with 1 Axes>"
      ]
     },
     "metadata": {},
     "output_type": "display_data"
    }
   ],
   "source": [
    "plt.hist(Sociedad,bins=100,density=True)\n",
    "yoyo = counter1/n*100\n",
    "print(\"Acceptance Ratio \" + str(yoyo)+ \" %\")\n",
    "plt.plot(Gobierno,oportunidades)"
   ]
  },
  {
   "cell_type": "code",
   "execution_count": 55,
   "metadata": {},
   "outputs": [
    {
     "data": {
      "image/png": "[encoded data removed]",
      "text/plain": [
       "<Figure size 432x288 with 2 Axes>"
      ]
     },
     "metadata": {},
     "output_type": "display_data"
    }
   ],
   "source": [
    "yoyo2 = counter2/n*100\n",
    "yoyo = counter1/n*100\n",
    "\n",
    "plt.figure(1)\n",
    "plt.subplot(211)\n",
    "plt.hist(Fiscalia,bins=100,density=True)\n",
    "plt.title(\"Acceptance Ratio \" + str(yoyo2) + \" %\")\n",
    "plt.plot(Inteligencia,aceptacionSocial)\n",
    "\n",
    "plt.subplot(212)\n",
    "plt.hist(Sociedad,bins=100,density=True)\n",
    "plt.title(\"Acceptance Ratio \" + str(yoyo)+ \" %\")\n",
    "plt.plot(Gobierno,oportunidades)\n",
    "plt.subplots_adjust(hspace=0.5)\n",
    "plt.savefig('pdfs.pdf')"
   ]
  },
  {
   "cell_type": "code",
   "execution_count": null,
   "metadata": {},
   "outputs": [],
   "source": []
  }
 ],
 "metadata": {
  "kernelspec": {
   "display_name": "Python 3",
   "language": "python",
   "name": "python3"
  },
  "language_info": {
   "codemirror_mode": {
    "name": "ipython",
    "version": 3
   },
   "file_extension": ".py",
   "mimetype": "text/x-python",
   "name": "python",
   "nbconvert_exporter": "python",
   "pygments_lexer": "ipython3",
   "version": "3.6.5"
  }
 },
 "nbformat": 4,
 "nbformat_minor": 2
}
