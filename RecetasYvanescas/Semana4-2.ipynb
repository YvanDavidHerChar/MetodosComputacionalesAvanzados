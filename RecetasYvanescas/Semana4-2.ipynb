{
 "cells": [
  {
   "cell_type": "code",
   "execution_count": 17,
   "metadata": {},
   "outputs": [
    {
     "name": "stderr",
     "output_type": "stream",
     "text": [
      "/srv/conda/lib/python3.6/site-packages/ipykernel_launcher.py:3: UserWarning: \n",
      "This call to matplotlib.use() has no effect because the backend has already\n",
      "been chosen; matplotlib.use() must be called *before* pylab, matplotlib.pyplot,\n",
      "or matplotlib.backends is imported for the first time.\n",
      "\n",
      "The backend was *originally* set to 'module://ipykernel.pylab.backend_inline' by the following code:\n",
      "  File \"/srv/conda/lib/python3.6/runpy.py\", line 193, in _run_module_as_main\n",
      "    \"__main__\", mod_spec)\n",
      "  File \"/srv/conda/lib/python3.6/runpy.py\", line 85, in _run_code\n",
      "    exec(code, run_globals)\n",
      "  File \"/srv/conda/lib/python3.6/site-packages/ipykernel_launcher.py\", line 16, in <module>\n",
      "    app.launch_new_instance()\n",
      "  File \"/srv/conda/lib/python3.6/site-packages/traitlets/config/application.py\", line 658, in launch_instance\n",
      "    app.start()\n",
      "  File \"/srv/conda/lib/python3.6/site-packages/ipykernel/kernelapp.py\", line 486, in start\n",
      "    self.io_loop.start()\n",
      "  File \"/srv/conda/lib/python3.6/site-packages/tornado/ioloop.py\", line 888, in start\n",
      "    handler_func(fd_obj, events)\n",
      "  File \"/srv/conda/lib/python3.6/site-packages/tornado/stack_context.py\", line 277, in null_wrapper\n",
      "    return fn(*args, **kwargs)\n",
      "  File \"/srv/conda/lib/python3.6/site-packages/zmq/eventloop/zmqstream.py\", line 450, in _handle_events\n",
      "    self._handle_recv()\n",
      "  File \"/srv/conda/lib/python3.6/site-packages/zmq/eventloop/zmqstream.py\", line 480, in _handle_recv\n",
      "    self._run_callback(callback, msg)\n",
      "  File \"/srv/conda/lib/python3.6/site-packages/zmq/eventloop/zmqstream.py\", line 432, in _run_callback\n",
      "    callback(*args, **kwargs)\n",
      "  File \"/srv/conda/lib/python3.6/site-packages/tornado/stack_context.py\", line 277, in null_wrapper\n",
      "    return fn(*args, **kwargs)\n",
      "  File \"/srv/conda/lib/python3.6/site-packages/ipykernel/kernelbase.py\", line 283, in dispatcher\n",
      "    return self.dispatch_shell(stream, msg)\n",
      "  File \"/srv/conda/lib/python3.6/site-packages/ipykernel/kernelbase.py\", line 233, in dispatch_shell\n",
      "    handler(stream, idents, msg)\n",
      "  File \"/srv/conda/lib/python3.6/site-packages/ipykernel/kernelbase.py\", line 399, in execute_request\n",
      "    user_expressions, allow_stdin)\n",
      "  File \"/srv/conda/lib/python3.6/site-packages/ipykernel/ipkernel.py\", line 208, in do_execute\n",
      "    res = shell.run_cell(code, store_history=store_history, silent=silent)\n",
      "  File \"/srv/conda/lib/python3.6/site-packages/ipykernel/zmqshell.py\", line 537, in run_cell\n",
      "    return super(ZMQInteractiveShell, self).run_cell(*args, **kwargs)\n",
      "  File \"/srv/conda/lib/python3.6/site-packages/IPython/core/interactiveshell.py\", line 2666, in run_cell\n",
      "    self.events.trigger('post_run_cell', result)\n",
      "  File \"/srv/conda/lib/python3.6/site-packages/IPython/core/events.py\", line 88, in trigger\n",
      "    func(*args, **kwargs)\n",
      "  File \"/srv/conda/lib/python3.6/site-packages/ipykernel/pylab/backend_inline.py\", line 160, in configure_once\n",
      "    activate_matplotlib(backend)\n",
      "  File \"/srv/conda/lib/python3.6/site-packages/IPython/core/pylabtools.py\", line 311, in activate_matplotlib\n",
      "    matplotlib.pyplot.switch_backend(backend)\n",
      "  File \"/srv/conda/lib/python3.6/site-packages/matplotlib/pyplot.py\", line 231, in switch_backend\n",
      "    matplotlib.use(newbackend, warn=False, force=True)\n",
      "  File \"/srv/conda/lib/python3.6/site-packages/matplotlib/__init__.py\", line 1422, in use\n",
      "    reload(sys.modules['matplotlib.backends'])\n",
      "  File \"/srv/conda/lib/python3.6/importlib/__init__.py\", line 166, in reload\n",
      "    _bootstrap._exec(spec, module)\n",
      "  File \"/srv/conda/lib/python3.6/site-packages/matplotlib/backends/__init__.py\", line 16, in <module>\n",
      "    line for line in traceback.format_stack()\n",
      "\n",
      "\n",
      "  This is separate from the ipykernel package so we can avoid doing imports until\n"
     ]
    }
   ],
   "source": [
    "import numpy as np\n",
    "import matplotlib \n",
    "matplotlib.use('Agg')\n",
    "import matplotlib.pyplot as plt"
   ]
  },
  {
   "cell_type": "code",
   "execution_count": 18,
   "metadata": {},
   "outputs": [],
   "source": [
    "#Porfin tengo tiempo para comentar, perdonenme las tildes...\n",
    "\n",
    "#Definimos el prior con las regiones en las que han de estar los parametros\n",
    "def logprior(v,theta):\n",
    "    p = -np.inf\n",
    "    if v > 0 and v<100 and theta<np.pi/2 and theta>0:\n",
    "        p = 0.0\n",
    "    return p\n",
    "\n",
    "#El modelo matematico que sigue la caida libre de un objeto con una velocidad inicial\n",
    "def modelo(v, theta):\n",
    "    g = 9.8\n",
    "    return v**2 * np.sin(2*theta)/g\n",
    "\n",
    "#Comparacion de la propuesta con los datos experimentales en logaritmo\n",
    "def loglikelihood(d_obs, sigma_d, v, t):\n",
    "    d = d_obs -  modelo(v, t)\n",
    "    d = d/sigma_d\n",
    "    d = -0.5 * np.sum(d**2)\n",
    "    return d\n",
    "\n",
    "#Datos observados\n",
    "d_obs = np.array([880, 795, 782, 976, 178])\n",
    "sigma_d = 5.0\n",
    "\n",
    "#Numero con el que se realizara el MCMH\n",
    "N = 50000\n",
    "lista_v = [45]\n",
    "lista_theta = [np.pi/3]\n",
    "sigma_v=10\n",
    "sigma_theta = 1\n",
    "for i in range(1,N):\n",
    "    #Proponemos un nuevo v y theta en funcion del anterior mas una distribucion normal\n",
    "    propuesta_v  = lista_v[i-1] + np.random.normal(loc=0.0, scale=sigma_v)\n",
    "    propuesta_theta  = lista_theta[i-1] + np.random.normal(loc=0.0, scale=sigma_theta)\n",
    "    \n",
    "    #Se creab los Posteriors nuevo, y viejo con los anteriores, con el fin de tener el criterio de comparacion\n",
    "    logposterior_viejo = loglikelihood(d_obs,sigma_d,lista_v[i-1],lista_theta[i-1]) + logprior(lista_v[i-1],lista_theta[i-1])\n",
    "    logposterior_nuevo = loglikelihood(d_obs,sigma_d,propuesta_v,propuesta_theta) + logprior(propuesta_v,propuesta_theta)\n",
    "                      \n",
    "    #criterio de comparacion\n",
    "    r = min(1,np.exp(logposterior_nuevo-logposterior_viejo))\n",
    "    alpha = np.random.random()\n",
    "    \n",
    "    #indexamos la propuesta \n",
    "    if(alpha<r):\n",
    "        lista_v.append(propuesta_v)\n",
    "        lista_theta.append(propuesta_theta)\n",
    "    #No se indexa e indexamos el anterior\n",
    "    else:\n",
    "        lista_v.append(lista_v[i-1])\n",
    "        lista_theta.append(lista_theta[i-1])\n",
    "\n",
    "#Convertimos el todo en arrays para poder graficarlo en el histograma\n",
    "lista_v = np.array(lista_v)\n",
    "lista_theta = np.array(lista_theta)\n",
    "\n",
    "#El histograma con los datos de los bins para encontrar el maximo\n",
    "a, b, c = plt.hist(lista_v, bins=100, density=True)\n",
    "\n",
    "#Encontramos el maximo del histograma (la maxima probabilidad)\n",
    "bin_max = np.where(a == a.max())\n",
    "desv = np.std(lista_v)\n",
    "mV = np.mean(lista_v)\n",
    "\n",
    "plt.title('Velocidad de salida '+ str(b[bin_max][0]) + ' m/s. El valor medio es ' + str(mV) + ' m/s. Y la desviacion estandar es ' + str(desv))\n",
    "#Guardamos la figura\n",
    "plt.savefig('casiqueno.pdf')"
   ]
  },
  {
   "cell_type": "code",
   "execution_count": 20,
   "metadata": {},
   "outputs": [
    {
     "name": "stderr",
     "output_type": "stream",
     "text": [
      "/srv/conda/lib/python3.6/site-packages/ipykernel_launcher.py:13: RuntimeWarning: overflow encountered in exp\n",
      "  del sys.path[0]\n"
     ]
    },
    {
     "data": {
      "image/png": "[encoded data removed]",
      "text/plain": [
       "<Figure size 432x288 with 1 Axes>"
      ]
     },
     "metadata": {},
     "output_type": "display_data"
    }
   ],
   "source": []
  },
  {
   "cell_type": "code",
   "execution_count": null,
   "metadata": {},
   "outputs": [],
   "source": []
  }
 ],
 "metadata": {
  "kernelspec": {
   "display_name": "Python 3",
   "language": "python",
   "name": "python3"
  },
  "language_info": {
   "codemirror_mode": {
    "name": "ipython",
    "version": 3
   },
   "file_extension": ".py",
   "mimetype": "text/x-python",
   "name": "python",
   "nbconvert_exporter": "python",
   "pygments_lexer": "ipython3",
   "version": "3.6.5"
  }
 },
 "nbformat": 4,
 "nbformat_minor": 2
}
