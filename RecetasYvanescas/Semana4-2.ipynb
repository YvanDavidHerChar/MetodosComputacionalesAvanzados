{
 "cells": [
  {
   "cell_type": "code",
   "execution_count": 43,
   "metadata": {},
   "outputs": [],
   "source": [
    "import numpy as np\n",
    "import matplotlib.pyplot as plt\n"
   ]
  },
  {
   "cell_type": "code",
   "execution_count": 48,
   "metadata": {},
   "outputs": [],
   "source": [
    "def logprior(v,theta):\n",
    "    p = -np.inf\n",
    "    if v > 0 and v<100 and theta<np.pi/2 and theta>0:\n",
    "        p = 0.0\n",
    "    return p\n",
    "\n",
    "def modelo(v, theta):\n",
    "    g = 9.8\n",
    "    return v**2 * np.sin(2*theta)/g\n",
    "\n",
    "def loglikelihood(d_obs, sigma_d, v, t):\n",
    "    d = d_obs -  modelo(v, t)\n",
    "    d = d/sigma_d\n",
    "    d = -0.5 * np.sum(d**2)\n",
    "    return d\n",
    "\n",
    "d_obs = np.array([880, 795, 782, 976, 178])\n",
    "sigma_d = 5.0"
   ]
  },
  {
   "cell_type": "code",
   "execution_count": 54,
   "metadata": {},
   "outputs": [
    {
     "name": "stderr",
     "output_type": "stream",
     "text": [
      "/srv/conda/lib/python3.6/site-packages/ipykernel_launcher.py:16: RuntimeWarning: overflow encountered in exp\n",
      "  app.launch_new_instance()\n"
     ]
    }
   ],
   "source": [
    "N = 5000\n",
    "lista_v = [45]\n",
    "lista_theta = [np.pi/3]\n",
    "sigma_v=10\n",
    "sigma_theta = 1\n",
    "for j in range(len(d_obs)):\n",
    "    d_real = d_obs[j]\n",
    "    logposterior = [loglikelihood(d_real,sigma_d,lista_v[-1],lista_theta[-1]) + logprior(lista_v[-1],lista_theta[-1])]\n",
    "    for i in range(1,N):\n",
    "        propuesta_v  = lista_v[i-1] + np.random.normal(loc=0.0, scale=sigma_v)\n",
    "        propuesta_theta  = lista_theta[i-1] + np.random.normal(loc=0.0, scale=sigma_theta)\n",
    "\n",
    "        logposterior_viejo = loglikelihood(d_real,sigma_d,lista_v[i-1],lista_theta[i-1]) + logprior(lista_v[i-1],lista_theta[i-1])\n",
    "        logposterior_nuevo = loglikelihood(d_real,sigma_d,propuesta_v,propuesta_theta) + logprior(propuesta_v,propuesta_theta)\n",
    "                                                                                               \n",
    "        r = min(1,np.exp(logposterior_nuevo-logposterior_viejo))\n",
    "        alpha = np.random.random()\n",
    "        if(alpha<r):\n",
    "            lista_v.append(propuesta_v)\n",
    "            lista_theta.append(propuesta_theta)\n",
    "        else:\n",
    "            lista_v.append(lista_v[i-1])\n",
    "            lista_theta.append(lista_theta[i-1])\n",
    "            \n",
    "lista_v = np.array(lista_v)\n",
    "lista_theta = np.array(lista_theta)\n",
    "\n",
    "#print(lista_v)\n",
    "plt.plot(lista_)\n",
    "#plt.hist(lista_v, bins=100, density=True)\n",
    "#plt.savefig('velocidad.pdf')\n",
    "#plt.errorbar(x_obs,z_obs, yerr=sigma_z, fmt='o')\n",
    "#plt.plot(new_x, y_model)\n"
   ]
  },
  {
   "cell_type": "code",
   "execution_count": null,
   "metadata": {},
   "outputs": [],
   "source": []
  }
 ],
 "metadata": {
  "kernelspec": {
   "display_name": "Python 3",
   "language": "python",
   "name": "python3"
  },
  "language_info": {
   "codemirror_mode": {
    "name": "ipython",
    "version": 3
   },
   "file_extension": ".py",
   "mimetype": "text/x-python",
   "name": "python",
   "nbconvert_exporter": "python",
   "pygments_lexer": "ipython3",
   "version": "3.6.5"
  }
 },
 "nbformat": 4,
 "nbformat_minor": 2
}
