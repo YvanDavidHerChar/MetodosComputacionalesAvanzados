{
 "cells": [
  {
   "cell_type": "code",
   "execution_count": 1,
   "metadata": {},
   "outputs": [],
   "source": [
    "import numpy as np\n",
    "import matplotlib \n",
    "matplotlib.use('Agg')\n",
    "import matplotlib.pyplot as plt\n",
    "import pandas as pd\n",
    "%matplotlib inline"
   ]
  },
  {
   "cell_type": "code",
   "execution_count": 2,
   "metadata": {},
   "outputs": [],
   "source": [
    "spamreader = pd.read_csv(\"badabybadabu.csv\")\n",
    "unano = spamreader[spamreader[\"Year\"]==2011]\n",
    "x_obs=np.array(unano[\"Health_expenditure_per_capita_PPP\"])\n",
    "y_obs=np.array(unano[\"Years_Lived_With_Disability\"])\n",
    "sigma_y_obs = np.std(y_obs)"
   ]
  },
  {
   "cell_type": "code",
   "execution_count": 3,
   "metadata": {},
   "outputs": [
    {
     "data": {
      "text/plain": [
       "<matplotlib.collections.PathCollection at 0x7f3b6af20c50>"
      ]
     },
     "execution_count": 3,
     "metadata": {},
     "output_type": "execute_result"
    },
    {
     "data": {
      "image/png": "[encoded data removed]",
      "text/plain": [
       "<Figure size 432x288 with 1 Axes>"
      ]
     },
     "metadata": {},
     "output_type": "display_data"
    }
   ],
   "source": [
    "plt.scatter(x_obs,y_obs)"
   ]
  },
  {
   "cell_type": "code",
   "execution_count": 7,
   "metadata": {},
   "outputs": [
    {
     "name": "stderr",
     "output_type": "stream",
     "text": [
      "/srv/conda/lib/python3.6/site-packages/ipykernel_launcher.py:4: RuntimeWarning: divide by zero encountered in log\n",
      "  after removing the cwd from sys.path.\n"
     ]
    },
    {
     "name": "stdout",
     "output_type": "stream",
     "text": [
      "Usando Gauss 0.5031892627054015 7.0101367295704735\n",
      "Usando Chi cuadrado 0.6303821828123753 6.083177318594526\n",
      "Usando Gauss 0.5710080429379961 6.800478325071208\n",
      "Usando Chi cuadrado 0.6807331787037404 6.907023115756131\n"
     ]
    },
    {
     "data": {
      "image/png": "[encoded data removed]",
      "text/plain": [
       "<Figure size 432x288 with 1 Axes>"
      ]
     },
     "metadata": {},
     "output_type": "display_data"
    }
   ],
   "source": [
    "#Definimos los modelos\n",
    "def modelo(mode,x,a,b):\n",
    "    if mode==1:\n",
    "        return a*np.log(x)+b\n",
    "    if mode ==2:\n",
    "        return a*np.sqrt(x)+b\n",
    "\n",
    "#Definimos las likelihood\n",
    "def loglikelihood(mode,x_obs, y_obs, sigma_y_obs, a, b):\n",
    "    #Usando Gauss\n",
    "    d = y_obs -  modelo(mode,x_obs, a, b)\n",
    "    d = d/sigma_y_obs\n",
    "    d = -0.5 * np.sum(d**2)\n",
    "    #Usando Chi cuadrado\n",
    "    e = np.log(1/(np.sqrt(2*x_obs*np.pi)))\n",
    "    e = e - x_obs/2\n",
    "    return d , e\n",
    "\n",
    "#Definimos un prior\n",
    "def logprior(a, b):\n",
    "    p = np.random.random()\n",
    "    if a > 0.4 and b>2:\n",
    "        p = 0.0\n",
    "    return p\n",
    "\n",
    "\n",
    "N = 50000\n",
    "#Listas del Modelo 1\n",
    "lista_a1 = [np.random.random()]\n",
    "lista_b1 = [np.random.random()+min(y_obs)]\n",
    "lista_a1_2 = [np.random.random()]\n",
    "lista_b1_2 = [np.random.random()+min(y_obs)]\n",
    "#Listas del Modelo 2\n",
    "lista_a2 = [np.random.random()]\n",
    "lista_b2 = [np.random.random()+min(y_obs)]\n",
    "lista_a2_2 = [np.random.random()]\n",
    "lista_b2_2 = [np.random.random()+min(y_obs)]\n",
    "\n",
    "logposterior1 = [loglikelihood(1,x_obs, y_obs, sigma_y_obs, lista_a1[0], lista_b1[0])[0] + logprior(lista_a1[0], lista_b1[0])]\n",
    "logposterior1_2 = [loglikelihood(1,x_obs, y_obs, sigma_y_obs, lista_a1_2[0], lista_b1_2[0])[1] + logprior(lista_a1_2[0], lista_b1_2[0])]\n",
    "logposterior2 = [loglikelihood(2,x_obs, y_obs, sigma_y_obs, lista_a2[0], lista_b2[0])[0] + logprior(lista_a2[0], lista_b2[0])]\n",
    "logposterior2_2 = [loglikelihood(2,x_obs, y_obs, sigma_y_obs, lista_a2_2[0], lista_b2_2[0])[1] + logprior(lista_a2_2[0], lista_b2_2[0])]\n",
    "\n",
    "#Los deltas de movimiento para cada modelo\n",
    "sigma_delta_a1 = 0.1\n",
    "sigma_delta_b1 = 0.5\n",
    "sigma_delta_a2 = 0.05\n",
    "sigma_delta_b2 = 0.5\n",
    "\n",
    "for i in range(1,N):\n",
    "    propuesta_a1  = lista_a1[i-1] + np.random.normal(loc=0.0, scale=sigma_delta_a1)\n",
    "    propuesta_b1  = lista_b1[i-1] + np.random.normal(loc=0.0, scale=sigma_delta_b1)\n",
    "    propuesta_a1_2  = lista_a1_2[i-1] + np.random.normal(loc=0.0, scale=sigma_delta_a1)\n",
    "    propuesta_b1_2  = lista_b1_2[i-1] + np.random.normal(loc=0.0, scale=sigma_delta_b1)\n",
    "    \n",
    "    propuesta_a2  = lista_a2[i-1] + np.random.normal(loc=0.0, scale=sigma_delta_a2)\n",
    "    propuesta_b2  = lista_b2[i-1] + np.random.normal(loc=0.0, scale=sigma_delta_b2)\n",
    "    propuesta_a2_2  = lista_a2_2[i-1] + np.random.normal(loc=0.0, scale=sigma_delta_a2)\n",
    "    propuesta_b2_2  = lista_b2_2[i-1] + np.random.normal(loc=0.0, scale=sigma_delta_b2)\n",
    "\n",
    "    logposterior_viejo1 = loglikelihood(1,x_obs, y_obs, sigma_y_obs, lista_a1[i-1], lista_b1[i-1])[0] + logprior(lista_a1[i-1], lista_b1[i-1])\n",
    "    logposterior_nuevo1 = loglikelihood(1,x_obs, y_obs, sigma_y_obs, propuesta_a1, propuesta_b1)[0] + logprior(propuesta_a1, propuesta_b1)\n",
    "    \n",
    "    logposterior_viejo1_2 = loglikelihood(1,x_obs, y_obs, sigma_y_obs, lista_a1_2[i-1], lista_b1_2[i-1])[1] + logprior(lista_a1_2[i-1], lista_b1_2[i-1])\n",
    "    logposterior_nuevo1_2 = loglikelihood(1,x_obs, y_obs, sigma_y_obs, propuesta_a1_2, propuesta_b1_2)[1] + logprior(propuesta_a1_2, propuesta_b1_2)\n",
    "\n",
    "    logposterior_viejo2 = loglikelihood(2,x_obs, y_obs, sigma_y_obs, lista_a2[i-1], lista_b2[i-1])[0] + logprior(lista_a2[i-1], lista_b2[i-1])\n",
    "    logposterior_nuevo2 = loglikelihood(2,x_obs, y_obs, sigma_y_obs, propuesta_a2, propuesta_b2)[0] + logprior(propuesta_a2, propuesta_b2)\n",
    "    \n",
    "    logposterior_viejo2_2 = loglikelihood(2,x_obs, y_obs, sigma_y_obs, lista_a2_2[i-1], lista_b2_2[i-1])[1] + logprior(lista_a2_2[i-1], lista_b2_2[i-1])\n",
    "    logposterior_nuevo2_2 = loglikelihood(2,x_obs, y_obs, sigma_y_obs, propuesta_a2_2, propuesta_b2_2)[1] + logprior(propuesta_a2_2, propuesta_b2_2)\n",
    "    \n",
    "    r = 1-np.exp(logposterior_nuevo1-logposterior_viejo1)\n",
    "    g = 1-np.exp(logposterior_nuevo1_2-logposterior_viejo1_2)\n",
    "    \n",
    "    r2 = 1-np.exp(logposterior_nuevo2-logposterior_viejo2)\n",
    "    g2 = 1-np.exp(logposterior_nuevo2_2-logposterior_viejo2_2)\n",
    "    \n",
    "    if(0<r):\n",
    "        lista_a1.append(propuesta_a1)\n",
    "        lista_b1.append(propuesta_b1)\n",
    "        logposterior1.append(logposterior_nuevo1)\n",
    "    else:\n",
    "        lista_a1.append(lista_a1[i-1])\n",
    "        lista_b1.append(lista_b1[i-1])\n",
    "        logposterior1.append(logposterior_viejo1) \n",
    "    if(0<g[0]):\n",
    "        lista_a1_2.append(propuesta_a1_2)\n",
    "        lista_b1_2.append(propuesta_b1_2)\n",
    "        logposterior1_2.append(logposterior_nuevo1_2)\n",
    "    else:\n",
    "        lista_a1_2.append(lista_a1_2[i-1])\n",
    "        lista_b1_2.append(lista_b1_2[i-1])\n",
    "        logposterior1_2.append(logposterior_viejo1_2)\n",
    "        \n",
    "    if(0<r2):\n",
    "        lista_a2.append(propuesta_a2)\n",
    "        lista_b2.append(propuesta_b2)\n",
    "        logposterior2.append(logposterior_nuevo2)\n",
    "    else:\n",
    "        lista_a2.append(lista_a2[i-1])\n",
    "        lista_b2.append(lista_b2[i-1])\n",
    "        logposterior2.append(logposterior_viejo2) \n",
    "    if(0<g2[0]):\n",
    "        lista_a2_2.append(propuesta_a2_2)\n",
    "        lista_b2_2.append(propuesta_b2_2)\n",
    "        logposterior2_2.append(logposterior_nuevo2_2)\n",
    "    else:\n",
    "        lista_a2_2.append(lista_a2_2[i-1])\n",
    "        lista_b2_2.append(lista_b2_2[i-1])\n",
    "        logposterior2_2.append(logposterior_viejo2_2)\n",
    "        \n",
    "lista_a1 = np.array(lista_a1)\n",
    "lista_b1 = np.array(lista_b1)\n",
    "logposterior1 = np.array(logposterior1)\n",
    "lista_a1_2 = np.array(lista_a1_2)\n",
    "lista_b1_2 = np.array(lista_b1_2)\n",
    "logposterior1_2 = np.array(logposterior1_2)\n",
    "\n",
    "lista_a2 = np.array(lista_a2)\n",
    "lista_b2 = np.array(lista_b2)\n",
    "logposterior2 = np.array(logposterior2)\n",
    "lista_a2_2 = np.array(lista_a2_2)\n",
    "lista_b2_2 = np.array(lista_b2_2)\n",
    "logposterior2_2 = np.array(logposterior2_2)\n",
    "\n",
    "new_x = np.linspace(0,10000,100)\n",
    "y_model = modelo(1,new_x,np.mean(lista_a1),np.mean(lista_b1))\n",
    "y_model_1 = modelo(1,new_x,np.mean(lista_a1_2),np.mean(lista_b1_2))\n",
    "y_model2 = modelo(2,new_x,np.mean(lista_a2),np.mean(lista_b2))\n",
    "y_model2_1 = modelo(2,new_x,np.mean(lista_a2_2),np.mean(lista_b2_2))\n",
    "plt.scatter(x_obs,y_obs)\n",
    "plt.plot(new_x, y_model)\n",
    "plt.plot(new_x, y_model_1)\n",
    "plt.plot(new_x, y_model2)\n",
    "#plt.plot(new_x, y_model2_1)\n",
    "print ('Usando Gauss',np.mean(lista_a1),np.mean(lista_b1))\n",
    "print('Usando Chi cuadrado',np.mean(lista_a1_2),np.mean(lista_b1_2))\n",
    "print ('Usando Gauss',np.mean(lista_a2),np.mean(lista_b2))\n",
    "print('Usando Chi cuadrado',np.mean(lista_a2_2),np.mean(lista_b2_2))"
   ]
  },
  {
   "cell_type": "code",
   "execution_count": 12,
   "metadata": {},
   "outputs": [
    {
     "data": {
      "text/plain": [
       "[<matplotlib.lines.Line2D at 0x7f3b6ad82e48>]"
      ]
     },
     "execution_count": 12,
     "metadata": {},
     "output_type": "execute_result"
    },
    {
     "data": {
      "image/png": "[encoded data removed]",
      "text/plain": [
       "<Figure size 432x288 with 1 Axes>"
      ]
     },
     "metadata": {},
     "output_type": "display_data"
    }
   ],
   "source": [
    "plt.scatter(x_obs,y_obs)\n",
    "plt.plot(new_x, y_model)\n",
    "plt.plot(new_x, y_model_1)\n",
    "#plt.plot(new_x, y_model2)\n",
    "#plt.plot(new_x, y_model2_1)"
   ]
  },
  {
   "cell_type": "code",
   "execution_count": null,
   "metadata": {},
   "outputs": [],
   "source": []
  }
 ],
 "metadata": {
  "kernelspec": {
   "display_name": "Python 3",
   "language": "python",
   "name": "python3"
  },
  "language_info": {
   "codemirror_mode": {
    "name": "ipython",
    "version": 3
   },
   "file_extension": ".py",
   "mimetype": "text/x-python",
   "name": "python",
   "nbconvert_exporter": "python",
   "pygments_lexer": "ipython3",
   "version": "3.6.5"
  }
 },
 "nbformat": 4,
 "nbformat_minor": 2
}
