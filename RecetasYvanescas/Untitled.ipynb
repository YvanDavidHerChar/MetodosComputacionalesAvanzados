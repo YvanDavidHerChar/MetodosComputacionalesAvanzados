{
 "cells": [
  {
   "cell_type": "code",
   "execution_count": 1,
   "metadata": {},
   "outputs": [],
   "source": [
    "import numpy as np\n",
    "import pandas as pd\n",
    "import matplotlib.pyplot as plt\n",
    "import sklearn.model_selection\n",
    "from sklearn import linear_model\n",
    "from sklearn.metrics import mean_squared_error\n",
    "from sklearn.linear_model import LogisticRegression\n",
    "from numpy.linalg import inv\n",
    "from numpy.linalg import norm\n",
    "%matplotlib inline"
   ]
  },
  {
   "cell_type": "code",
   "execution_count": 2,
   "metadata": {},
   "outputs": [],
   "source": [
    "data = pd.read_csv('Default.csv')\n",
    "X1 = np.array(data['balance'].values.reshape(-1,1))\n",
    "X2 = np.array(data['income'].values.reshape(-1,1))\n",
    "Y = np.array(data['default'].values.reshape(-1,1))\n",
    "Yp= np.array(data['student'].values.reshape(-1,1))"
   ]
  },
  {
   "cell_type": "code",
   "execution_count": 3,
   "metadata": {},
   "outputs": [
    {
     "data": {
      "text/plain": [
       "10000"
      ]
     },
     "execution_count": 3,
     "metadata": {},
     "output_type": "execute_result"
    }
   ],
   "source": [
    "x = [list(t) for t in zip(X1, X2)]\n",
    "x = np.array(x)\n",
    "x=x.reshape(10000,2)\n",
    "len(x)"
   ]
  },
  {
   "cell_type": "code",
   "execution_count": 4,
   "metadata": {},
   "outputs": [
    {
     "name": "stdout",
     "output_type": "stream",
     "text": [
      "[ 1486.9981216  17854.39702807]\n"
     ]
    }
   ],
   "source": [
    "x1=[]\n",
    "x2=[]\n",
    "for i in range(len(Y)):\n",
    "    if (Y[i]=='Yes'):\n",
    "        x1.append(x[i])\n",
    "    else:\n",
    "        x2.append(x[i])\n",
    "x1 = np.array(x1)\n",
    "x2 = np.array(x2)\n",
    "print(x1[0])"
   ]
  },
  {
   "cell_type": "code",
   "execution_count": 5,
   "metadata": {},
   "outputs": [
    {
     "name": "stdout",
     "output_type": "stream",
     "text": [
      "[ 1747.82168961 32089.14712446]\n"
     ]
    }
   ],
   "source": [
    "miu1=np.array([np.sum(x1[:,0])/len(x1),np.sum(x1[:,1])/len(x1)])\n",
    "miu2=np.array([np.sum(x2[:,0])/len(x2),np.sum(x2[:,1])/len(x2)])\n",
    "pi1=len(x1)/len(x)\n",
    "pi2=len(x2)/len(x)\n",
    "print(miu1)"
   ]
  },
  {
   "cell_type": "code",
   "execution_count": 6,
   "metadata": {},
   "outputs": [
    {
     "name": "stdout",
     "output_type": "stream",
     "text": [
      "[[ 2.33980187e+05 -9.82142336e+05]\n",
      " [-9.82142336e+05  1.77865955e+08]]\n"
     ]
    }
   ],
   "source": [
    "sigma=(np.sum((x[:]-miu1)**2)+np.sum((x[:]-miu2)**2))/(len(x)-2)\n",
    "SIGMA = np.cov(x,rowvar=False)\n",
    "print(SIGMA)"
   ]
  },
  {
   "cell_type": "code",
   "execution_count": 9,
   "metadata": {},
   "outputs": [],
   "source": [
    "def BayessianClass(x,mius,pis,SIGMA,k):\n",
    "    deltas = []\n",
    "    pos = 0\n",
    "    m=0\n",
    "    for i in range(k):\n",
    "        miuk = mius[i,:]\n",
    "        pik = pis[i]\n",
    "        delta = (x.transpose()/norm(x))@(inv(SIGMA)/norm(inv(SIGMA)))@(miuk/norm(miuk)) - (1/2)*(miuk.transpose()/norm(miuk))@(inv(SIGMA)/norm(inv(SIGMA)))@(miuk/norm(miuk)) + np.log(pik)\n",
    "        deltas.append(delta)\n",
    "        if delta > m: \n",
    "            m = delta\n",
    "            pos = i\n",
    "    return deltas, pos\n",
    "\n",
    "    "
   ]
  },
  {
   "cell_type": "code",
   "execution_count": 11,
   "metadata": {},
   "outputs": [
    {
     "name": "stdout",
     "output_type": "stream",
     "text": [
      "[-3.3980527705557724, -0.031055566321074445]\n"
     ]
    }
   ],
   "source": [
    "delta, i = BayessianClass(np.array(x[136]),np.array([miu1,miu2]),np.array([pi1,pi2]),SIGMA,2)\n",
    "print(delta)"
   ]
  },
  {
   "cell_type": "code",
   "execution_count": 12,
   "metadata": {},
   "outputs": [],
   "source": [
    "def tresholdear(x,mius,pis,SIGMA,k,Y,tresh):\n",
    "    Defcorrectos = 0\n",
    "    Nodefcorrecots = 0\n",
    "    Defincorrectos = 0\n",
    "    Nodefincorrecots = 0\n",
    "    for i in range(len(Y)):\n",
    "        delta,j = BayessianClass(x[i],mius,pis,SIGMA,k)\n",
    "        if (delta[0]>np.log(tresh) and Y[i]=='Yes'):\n",
    "        #if (j==0 and Y[i]=='Yes'):\n",
    "            Defcorrectos = Defcorrectos +1\n",
    "        elif (delta[0]>np.log(tresh) and Y[i]=='No'):\n",
    "        #elif (j==0 and Y[i]=='No'):\n",
    "            Nodefincorrecots = Nodefincorrecots +1\n",
    "        elif (delta[1]<np.log(tresh) and Y[i]=='No'):\n",
    "        #elif (j==1 and Y[i]=='No'):\n",
    "            Nodefcorrecots = Nodefcorrecots +1\n",
    "        elif (delta[1]<np.log(tresh) and Y[i]=='Yes'):\n",
    "        #elif (j==1 and Y[i]=='Yes'):\n",
    "            Defincorrectos = Defincorrectos +1\n",
    "    return Defcorrectos,Defincorrectos,Nodefcorrecots,Nodefincorrecots"
   ]
  },
  {
   "cell_type": "code",
   "execution_count": 15,
   "metadata": {},
   "outputs": [
    {
     "name": "stderr",
     "output_type": "stream",
     "text": [
      "/srv/conda/lib/python3.6/site-packages/ipykernel_launcher.py:8: RuntimeWarning: divide by zero encountered in log\n",
      "  \n",
      "/srv/conda/lib/python3.6/site-packages/ipykernel_launcher.py:11: RuntimeWarning: divide by zero encountered in log\n",
      "  # This is added back by InteractiveShellApp.init_path()\n"
     ]
    },
    {
     "ename": "ZeroDivisionError",
     "evalue": "division by zero",
     "output_type": "error",
     "traceback": [
      "\u001b[0;31m---------------------------------------------------------------------------\u001b[0m",
      "\u001b[0;31mZeroDivisionError\u001b[0m                         Traceback (most recent call last)",
      "\u001b[0;32m<ipython-input-15-6a03777f9353>\u001b[0m in \u001b[0;36m<module>\u001b[0;34m()\u001b[0m\n\u001b[1;32m      7\u001b[0m \u001b[0;32mfor\u001b[0m \u001b[0mi\u001b[0m \u001b[0;32min\u001b[0m \u001b[0mrange\u001b[0m\u001b[0;34m(\u001b[0m\u001b[0mlen\u001b[0m\u001b[0;34m(\u001b[0m\u001b[0mtreshold\u001b[0m\u001b[0;34m)\u001b[0m\u001b[0;34m)\u001b[0m\u001b[0;34m:\u001b[0m\u001b[0;34m\u001b[0m\u001b[0m\n\u001b[1;32m      8\u001b[0m     \u001b[0ma\u001b[0m\u001b[0;34m,\u001b[0m\u001b[0mb\u001b[0m\u001b[0;34m,\u001b[0m\u001b[0mc\u001b[0m\u001b[0;34m,\u001b[0m\u001b[0md\u001b[0m \u001b[0;34m=\u001b[0m \u001b[0mtresholdear\u001b[0m\u001b[0;34m(\u001b[0m\u001b[0mnp\u001b[0m\u001b[0;34m.\u001b[0m\u001b[0marray\u001b[0m\u001b[0;34m(\u001b[0m\u001b[0mx\u001b[0m\u001b[0;34m)\u001b[0m\u001b[0;34m,\u001b[0m\u001b[0mnp\u001b[0m\u001b[0;34m.\u001b[0m\u001b[0marray\u001b[0m\u001b[0;34m(\u001b[0m\u001b[0;34m[\u001b[0m\u001b[0mmiu1\u001b[0m\u001b[0;34m,\u001b[0m\u001b[0mmiu2\u001b[0m\u001b[0;34m]\u001b[0m\u001b[0;34m)\u001b[0m\u001b[0;34m,\u001b[0m\u001b[0mnp\u001b[0m\u001b[0;34m.\u001b[0m\u001b[0marray\u001b[0m\u001b[0;34m(\u001b[0m\u001b[0;34m[\u001b[0m\u001b[0mpi1\u001b[0m\u001b[0;34m,\u001b[0m\u001b[0mpi2\u001b[0m\u001b[0;34m]\u001b[0m\u001b[0;34m)\u001b[0m\u001b[0;34m,\u001b[0m\u001b[0mSIGMA\u001b[0m\u001b[0;34m,\u001b[0m\u001b[0;36m2\u001b[0m\u001b[0;34m,\u001b[0m\u001b[0mY\u001b[0m\u001b[0;34m,\u001b[0m\u001b[0mtreshold\u001b[0m\u001b[0;34m[\u001b[0m\u001b[0mi\u001b[0m\u001b[0;34m]\u001b[0m\u001b[0;34m)\u001b[0m\u001b[0;34m\u001b[0m\u001b[0m\n\u001b[0;32m----> 9\u001b[0;31m     \u001b[0mDefaultsMal\u001b[0m\u001b[0;34m.\u001b[0m\u001b[0mappend\u001b[0m\u001b[0;34m(\u001b[0m\u001b[0mb\u001b[0m\u001b[0;34m/\u001b[0m\u001b[0;34m(\u001b[0m\u001b[0ma\u001b[0m\u001b[0;34m+\u001b[0m\u001b[0mb\u001b[0m\u001b[0;34m)\u001b[0m\u001b[0;34m)\u001b[0m\u001b[0;34m\u001b[0m\u001b[0m\n\u001b[0m\u001b[1;32m     10\u001b[0m     \u001b[0mDefaulterBien\u001b[0m\u001b[0;34m.\u001b[0m\u001b[0mappend\u001b[0m\u001b[0;34m(\u001b[0m\u001b[0ma\u001b[0m\u001b[0;34m/\u001b[0m\u001b[0;34m(\u001b[0m\u001b[0ma\u001b[0m\u001b[0;34m+\u001b[0m\u001b[0mb\u001b[0m\u001b[0;34m)\u001b[0m\u001b[0;34m)\u001b[0m\u001b[0;34m\u001b[0m\u001b[0m\n\u001b[1;32m     11\u001b[0m     \u001b[0mNoDefaultsMal\u001b[0m\u001b[0;34m.\u001b[0m\u001b[0mappend\u001b[0m\u001b[0;34m(\u001b[0m\u001b[0md\u001b[0m\u001b[0;34m/\u001b[0m\u001b[0;34m(\u001b[0m\u001b[0mc\u001b[0m\u001b[0;34m+\u001b[0m\u001b[0md\u001b[0m\u001b[0;34m)\u001b[0m\u001b[0;34m)\u001b[0m\u001b[0;34m\u001b[0m\u001b[0m\n",
      "\u001b[0;31mZeroDivisionError\u001b[0m: division by zero"
     ]
    }
   ],
   "source": [
    "ErrorTotal = []\n",
    "DefaultsMal = []\n",
    "NoDefaultsMal = []\n",
    "DefaulterBien = []\n",
    "NoDefaultersBien = []\n",
    "treshold = np.linspace(0,0.5,50)\n",
    "for i in range(len(treshold)):\n",
    "    a,b,c,d = tresholdear(np.array(x),np.array([miu1,miu2]),np.array([pi1,pi2]),SIGMA,2,Y,treshold[i])\n",
    "    DefaultsMal.append(b/(a+b))\n",
    "    DefaulterBien.append(a/(a+b))\n",
    "    NoDefaultsMal.append(d/(c+d))\n",
    "    NoDefaultersBien.append(c/(c+d))\n",
    "    ErrorTotal.append((b+d)/(a+b+c+d))\n"
   ]
  },
  {
   "cell_type": "code",
   "execution_count": null,
   "metadata": {},
   "outputs": [],
   "source": [
    "a,b,c,d = tresholdear(np.array(x),np.array([miu1,miu2]),np.array([pi1,pi2]),SIGMA,2,Y,0.2)\n",
    "print(a+b)\n",
    "print(a+b+c+d)"
   ]
  },
  {
   "cell_type": "code",
   "execution_count": null,
   "metadata": {},
   "outputs": [],
   "source": [
    "plt.plot(treshold,ErrorTotal)\n",
    "plt.plot(treshold,DefaultsMal)\n",
    "plt.plot(treshold,NoDefaultsMal)"
   ]
  },
  {
   "cell_type": "code",
   "execution_count": null,
   "metadata": {},
   "outputs": [],
   "source": [
    "TruePositive = DefaulterBien\n",
    "FalsePositive = NoDefaultsMal\n",
    "plt.plot(FalsePositive,TruePositive)"
   ]
  },
  {
   "cell_type": "code",
   "execution_count": null,
   "metadata": {},
   "outputs": [],
   "source": [
    "TrueNegative = DefaultsMal\n",
    "FalseNegative = NoDefaultersBien "
   ]
  },
  {
   "cell_type": "code",
   "execution_count": null,
   "metadata": {},
   "outputs": [],
   "source": []
  }
 ],
 "metadata": {
  "kernelspec": {
   "display_name": "Python 3",
   "language": "python",
   "name": "python3"
  },
  "language_info": {
   "codemirror_mode": {
    "name": "ipython",
    "version": 3
   },
   "file_extension": ".py",
   "mimetype": "text/x-python",
   "name": "python",
   "nbconvert_exporter": "python",
   "pygments_lexer": "ipython3",
   "version": "3.6.6"
  }
 },
 "nbformat": 4,
 "nbformat_minor": 2
}
