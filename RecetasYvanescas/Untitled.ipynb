{
 "cells": [
  {
   "cell_type": "code",
   "execution_count": 1,
   "metadata": {},
   "outputs": [],
   "source": [
    "import numpy as np\n",
    "import pandas as pd\n",
    "import matplotlib.pyplot as plt\n",
    "import sklearn.model_selection\n",
    "from sklearn import linear_model\n",
    "from sklearn.metrics import mean_squared_error\n",
    "from sklearn.linear_model import LogisticRegression\n",
    "from numpy.linalg import inv\n",
    "from numpy.linalg import norm\n",
    "%matplotlib inline"
   ]
  },
  {
   "cell_type": "code",
   "execution_count": 2,
   "metadata": {},
   "outputs": [],
   "source": [
    "data = pd.read_csv('Default.csv')\n",
    "X1 = np.array(data['balance'].values.reshape(-1,1))\n",
    "X2 = np.array(data['income'].values.reshape(-1,1))\n",
    "Y = np.array(data['default'].values.reshape(-1,1))\n",
    "Yp= np.array(data['student'].values.reshape(-1,1))"
   ]
  },
  {
   "cell_type": "code",
   "execution_count": 3,
   "metadata": {},
   "outputs": [
    {
     "data": {
      "text/plain": [
       "10000"
      ]
     },
     "execution_count": 3,
     "metadata": {},
     "output_type": "execute_result"
    }
   ],
   "source": [
    "x = [list(t) for t in zip(X1, X2)]\n",
    "x = np.array(x)\n",
    "x=x.reshape(10000,2)\n",
    "len(x)"
   ]
  },
  {
   "cell_type": "code",
   "execution_count": 4,
   "metadata": {},
   "outputs": [
    {
     "name": "stdout",
     "output_type": "stream",
     "text": [
      "[ 1486.9981216  17854.39702807]\n"
     ]
    }
   ],
   "source": [
    "x1=[]\n",
    "x2=[]\n",
    "for i in range(len(Y)):\n",
    "    if (Y[i]=='Yes'):\n",
    "        x1.append(x[i])\n",
    "    else:\n",
    "        x2.append(x[i])\n",
    "x1 = np.array(x1)\n",
    "x2 = np.array(x2)\n",
    "print(x1[0])"
   ]
  },
  {
   "cell_type": "code",
   "execution_count": 5,
   "metadata": {},
   "outputs": [
    {
     "name": "stdout",
     "output_type": "stream",
     "text": [
      "[ 1747.82168961 32089.14712446]\n"
     ]
    }
   ],
   "source": [
    "miu1=np.array([np.sum(x1[:,0])/len(x1),np.sum(x1[:,1])/len(x1)])\n",
    "miu2=np.array([np.sum(x2[:,0])/len(x2),np.sum(x2[:,1])/len(x2)])\n",
    "pi1=len(x1)/len(x)\n",
    "pi2=len(x2)/len(x)\n",
    "print(miu1)"
   ]
  },
  {
   "cell_type": "code",
   "execution_count": 6,
   "metadata": {},
   "outputs": [
    {
     "name": "stdout",
     "output_type": "stream",
     "text": [
      "[[ 2.33980187e+05 -9.82142336e+05]\n",
      " [-9.82142336e+05  1.77865955e+08]]\n"
     ]
    }
   ],
   "source": [
    "sigma=(np.sum((x[:]-miu1)**2)+np.sum((x[:]-miu2)**2))/(len(x)-2)\n",
    "SIGMA = np.cov(x,rowvar=False)\n",
    "print(SIGMA)"
   ]
  },
  {
   "cell_type": "code",
   "execution_count": 7,
   "metadata": {},
   "outputs": [],
   "source": [
    "def BayessianClass(x,mius,pis,SIGMA,k):\n",
    "    deltas = []\n",
    "    pos = 0\n",
    "    m=0\n",
    "    for i in range(k):\n",
    "        miuk = mius[i,:]\n",
    "        pik = pis[i]\n",
    "        delta = (x.transpose()/norm(x))@(inv(SIGMA)/norm(inv(SIGMA)))@(miuk/norm(miuk)) - (1/2)*(miuk.transpose()/norm(miuk))@(inv(SIGMA)/norm(inv(SIGMA)))@(miuk/norm(miuk)) + np.log(pik)\n",
    "        deltas.append(delta)\n",
    "        if delta > m: \n",
    "            m = delta\n",
    "            pos = i\n",
    "    return deltas, pos\n",
    "\n",
    "    "
   ]
  },
  {
   "cell_type": "code",
   "execution_count": 8,
   "metadata": {},
   "outputs": [
    {
     "name": "stdout",
     "output_type": "stream",
     "text": [
      "[-3.3980527705557724, -0.031055566321074445]\n"
     ]
    }
   ],
   "source": [
    "delta, i = BayessianClass(np.array(x[136]),np.array([miu1,miu2]),np.array([pi1,pi2]),SIGMA,2)\n",
    "print(delta)"
   ]
  },
  {
   "cell_type": "code",
   "execution_count": 9,
   "metadata": {},
   "outputs": [],
   "source": [
    "def tresholdear(x,mius,pis,SIGMA,k,Y,tresh):\n",
    "    Defcorrectos = 0\n",
    "    Nodefcorrecots = 0\n",
    "    Defincorrectos = 0\n",
    "    Nodefincorrecots = 0\n",
    "    for i in range(len(Y)):\n",
    "        delta,j = BayessianClass(x[i],mius,pis,SIGMA,k)\n",
    "        if (delta[0]>np.log(tresh) and Y[i]=='Yes'):\n",
    "        #if (j==0 and Y[i]=='Yes'):\n",
    "            Defcorrectos = Defcorrectos +1\n",
    "        else:\n",
    "        #elif (j==0 and Y[i]=='No'):\n",
    "            Nodefincorrecots = Nodefincorrecots +1\n",
    "        if (delta[1]<(np.log(1-tresh)) and Y[i]=='No'):\n",
    "        #elif (j==1 and Y[i]=='No'):\n",
    "            Nodefcorrecots = Nodefcorrecots +1\n",
    "        else:\n",
    "        #elif (j==1 and Y[i]=='Yes'):\n",
    "            Defincorrectos = Defincorrectos +1\n",
    "    return Defcorrectos,Defincorrectos,Nodefcorrecots,Nodefincorrecots"
   ]
  },
  {
   "cell_type": "code",
   "execution_count": 14,
   "metadata": {},
   "outputs": [
    {
     "name": "stderr",
     "output_type": "stream",
     "text": [
      "/srv/conda/lib/python3.6/site-packages/ipykernel_launcher.py:8: RuntimeWarning: divide by zero encountered in log\n",
      "  \n"
     ]
    }
   ],
   "source": [
    "ErrorTotal = []\n",
    "DefaultsMal = []\n",
    "NoDefaultsMal = []\n",
    "DefaulterBien = []\n",
    "NoDefaultersBien = []\n",
    "treshold = np.linspace(0,0.5,50)\n",
    "for i in range(len(treshold)):\n",
    "    a,b,c,d = tresholdear(np.array(x),np.array([miu1,miu2]),np.array([pi1,pi2]),SIGMA,2,Y,treshold[i])\n",
    "    DefaultsMal.append(b/(a+b))\n",
    "    DefaulterBien.append(a/(a+b))\n",
    "    NoDefaultsMal.append(d/(c+d))\n",
    "    NoDefaultersBien.append(c/(c+d))\n",
    "    ErrorTotal.append((b+d)/(a+b+c+d))\n"
   ]
  },
  {
   "cell_type": "code",
   "execution_count": 10,
   "metadata": {},
   "outputs": [
    {
     "name": "stdout",
     "output_type": "stream",
     "text": [
      "10000\n",
      "20000\n"
     ]
    }
   ],
   "source": [
    "a,b,c,d = tresholdear(np.array(x),np.array([miu1,miu2]),np.array([pi1,pi2]),SIGMA,2,Y,0.2)\n",
    "print(a+b)\n",
    "print(a+b+c+d)"
   ]
  },
  {
   "cell_type": "code",
   "execution_count": 11,
   "metadata": {},
   "outputs": [
    {
     "ename": "NameError",
     "evalue": "name 'treshold' is not defined",
     "output_type": "error",
     "traceback": [
      "\u001b[0;31m---------------------------------------------------------------------------\u001b[0m",
      "\u001b[0;31mNameError\u001b[0m                                 Traceback (most recent call last)",
      "\u001b[0;32m<ipython-input-11-7728511e1646>\u001b[0m in \u001b[0;36m<module>\u001b[0;34m()\u001b[0m\n\u001b[0;32m----> 1\u001b[0;31m \u001b[0mplt\u001b[0m\u001b[0;34m.\u001b[0m\u001b[0mplot\u001b[0m\u001b[0;34m(\u001b[0m\u001b[0mtreshold\u001b[0m\u001b[0;34m,\u001b[0m\u001b[0mErrorTotal\u001b[0m\u001b[0;34m)\u001b[0m\u001b[0;34m\u001b[0m\u001b[0m\n\u001b[0m\u001b[1;32m      2\u001b[0m \u001b[0mplt\u001b[0m\u001b[0;34m.\u001b[0m\u001b[0mplot\u001b[0m\u001b[0;34m(\u001b[0m\u001b[0mtreshold\u001b[0m\u001b[0;34m,\u001b[0m\u001b[0mDefaultsMal\u001b[0m\u001b[0;34m)\u001b[0m\u001b[0;34m\u001b[0m\u001b[0m\n\u001b[1;32m      3\u001b[0m \u001b[0mplt\u001b[0m\u001b[0;34m.\u001b[0m\u001b[0mplot\u001b[0m\u001b[0;34m(\u001b[0m\u001b[0mtreshold\u001b[0m\u001b[0;34m,\u001b[0m\u001b[0mNoDefaultsMal\u001b[0m\u001b[0;34m)\u001b[0m\u001b[0;34m\u001b[0m\u001b[0m\n",
      "\u001b[0;31mNameError\u001b[0m: name 'treshold' is not defined"
     ]
    }
   ],
   "source": [
    "plt.plot(treshold,ErrorTotal)\n",
    "plt.plot(treshold,DefaultsMal)\n",
    "plt.plot(treshold,NoDefaultsMal)"
   ]
  },
  {
   "cell_type": "code",
   "execution_count": 12,
   "metadata": {},
   "outputs": [
    {
     "ename": "NameError",
     "evalue": "name 'DefaulterBien' is not defined",
     "output_type": "error",
     "traceback": [
      "\u001b[0;31m---------------------------------------------------------------------------\u001b[0m",
      "\u001b[0;31mNameError\u001b[0m                                 Traceback (most recent call last)",
      "\u001b[0;32m<ipython-input-12-ffeecfb77079>\u001b[0m in \u001b[0;36m<module>\u001b[0;34m()\u001b[0m\n\u001b[0;32m----> 1\u001b[0;31m \u001b[0mTruePositive\u001b[0m \u001b[0;34m=\u001b[0m \u001b[0mDefaulterBien\u001b[0m\u001b[0;34m\u001b[0m\u001b[0m\n\u001b[0m\u001b[1;32m      2\u001b[0m \u001b[0mFalsePositive\u001b[0m \u001b[0;34m=\u001b[0m \u001b[0mNoDefaultsMal\u001b[0m\u001b[0;34m\u001b[0m\u001b[0m\n\u001b[1;32m      3\u001b[0m \u001b[0mplt\u001b[0m\u001b[0;34m.\u001b[0m\u001b[0mplot\u001b[0m\u001b[0;34m(\u001b[0m\u001b[0mFalsePositive\u001b[0m\u001b[0;34m,\u001b[0m\u001b[0mTruePositive\u001b[0m\u001b[0;34m)\u001b[0m\u001b[0;34m\u001b[0m\u001b[0m\n",
      "\u001b[0;31mNameError\u001b[0m: name 'DefaulterBien' is not defined"
     ]
    }
   ],
   "source": [
    "TruePositive = DefaulterBien\n",
    "FalsePositive = NoDefaultsMal\n",
    "plt.plot(FalsePositive,TruePositive)"
   ]
  },
  {
   "cell_type": "code",
   "execution_count": 13,
   "metadata": {},
   "outputs": [
    {
     "name": "stdout",
     "output_type": "stream",
     "text": [
      "[0 0 0 ... 0 0 0]\n",
      "0.0 0.00020682523267838676\n",
      "1.0 0.9997931747673217\n"
     ]
    },
    {
     "name": "stderr",
     "output_type": "stream",
     "text": [
      "/srv/conda/lib/python3.6/site-packages/sklearn/linear_model/logistic.py:432: FutureWarning: Default solver will be changed to 'lbfgs' in 0.22. Specify a solver to silence this warning.\n",
      "  FutureWarning)\n"
     ]
    }
   ],
   "source": [
    "logreg = LogisticRegression()\n",
    "def esYes(x):\n",
    "    if x == 'Yes':\n",
    "        return 1\n",
    "    else:\n",
    "        return 0\n",
    "Y = np.array((list(map(esYes,Y))))\n",
    "print(Y)\n",
    "X_train, X_validation, Y_train, Y_validation = sklearn.model_selection.train_test_split(x, Y, test_size=0.5)\n",
    "camaleon1 = logreg.fit(X_train, Y_train)\n",
    "camaleonEntrenado = logreg.predict(X_validation)\n",
    "camaleonEntrenado1 = logreg.predict(X_train)\n",
    "ii=(camaleonEntrenado == 1) & (Y_validation ==1)\n",
    "jj=(camaleonEntrenado == 1) & (Y_validation ==0)\n",
    "kk=(camaleonEntrenado == 0) & (Y_validation ==1)\n",
    "ll=(camaleonEntrenado == 0) & (Y_validation ==0)\n",
    "TruePositive = np.count_nonzero(ii)/(np.count_nonzero(ii)+np.count_nonzero(kk))\n",
    "FalsePositive = np.count_nonzero(jj)/(np.count_nonzero(jj)+np.count_nonzero(ll))\n",
    "TrueNegative = np.count_nonzero(kk)/(np.count_nonzero(ii)+np.count_nonzero(kk))\n",
    "FalseNegative = np.count_nonzero(ll)/(np.count_nonzero(jj)+np.count_nonzero(ll))\n",
    "print(TruePositive, FalsePositive)\n",
    "print(TrueNegative,FalseNegative)"
   ]
  },
  {
   "cell_type": "code",
   "execution_count": 19,
   "metadata": {},
   "outputs": [
    {
     "name": "stderr",
     "output_type": "stream",
     "text": [
      "/srv/conda/lib/python3.6/site-packages/sklearn/linear_model/logistic.py:432: FutureWarning: Default solver will be changed to 'lbfgs' in 0.22. Specify a solver to silence this warning.\n",
      "  FutureWarning)\n"
     ]
    },
    {
     "ename": "ZeroDivisionError",
     "evalue": "float division by zero",
     "output_type": "error",
     "traceback": [
      "\u001b[0;31m---------------------------------------------------------------------------\u001b[0m",
      "\u001b[0;31mZeroDivisionError\u001b[0m                         Traceback (most recent call last)",
      "\u001b[0;32m<ipython-input-19-18dff4a6c4a5>\u001b[0m in \u001b[0;36m<module>\u001b[0;34m()\u001b[0m\n\u001b[1;32m     33\u001b[0m \u001b[0;34m\u001b[0m\u001b[0m\n\u001b[1;32m     34\u001b[0m \u001b[0mrecall\u001b[0m \u001b[0;34m=\u001b[0m \u001b[0mTruePositive\u001b[0m\u001b[0;34m/\u001b[0m\u001b[0;34m(\u001b[0m\u001b[0mTruePositive\u001b[0m\u001b[0;34m+\u001b[0m\u001b[0mFalseNegative\u001b[0m\u001b[0;34m)\u001b[0m\u001b[0;34m\u001b[0m\u001b[0m\n\u001b[0;32m---> 35\u001b[0;31m \u001b[0mprecision\u001b[0m \u001b[0;34m=\u001b[0m \u001b[0mTruePositive\u001b[0m\u001b[0;34m/\u001b[0m\u001b[0;34m(\u001b[0m\u001b[0mTruePositive\u001b[0m\u001b[0;34m+\u001b[0m\u001b[0mFalsePositive\u001b[0m\u001b[0;34m)\u001b[0m\u001b[0;34m\u001b[0m\u001b[0m\n\u001b[0m",
      "\u001b[0;31mZeroDivisionError\u001b[0m: float division by zero"
     ]
    }
   ],
   "source": [
    "treshold = np.linspace(0,1,50)\n",
    "def modelo(x,b0,betas):\n",
    "    #return ((np.exp(b0+b1*x))/(1+np.exp(b0+b1*x)))\n",
    "    return ((np.exp(b0+np.dot(x,betas.transpose())))/(1+np.exp(b0 + np.dot(x,betas.transpose()))))\n",
    "camaleon = logreg.fit(X_train, Y_train)\n",
    "beta0 = logreg.intercept_\n",
    "betas = logreg.coef_\n",
    "y = modelo(X_train,beta0,betas)\n",
    "tp = []\n",
    "fp = []\n",
    "tn = []\n",
    "fn = []\n",
    "for i in range(len(treshold)):\n",
    "    for j in range(len(y)):\n",
    "        if(y[j]>treshold[i]):\n",
    "            y[j]=1\n",
    "        else:\n",
    "            y[j]=0\n",
    "    ii=(y == 1) & (Y_train ==1)\n",
    "    jj=(y == 1) & (Y_train ==0)\n",
    "    kk=(y == 0) & (Y_train ==1)\n",
    "    ll=(y == 0) & (Y_train ==0)\n",
    "    TruePositive = np.count_nonzero(ii)/(np.count_nonzero(ii)+np.count_nonzero(kk))\n",
    "    FalsePositive = np.count_nonzero(jj)/(np.count_nonzero(jj)+np.count_nonzero(ll))\n",
    "    TrueNegative = np.count_nonzero(kk)/(np.count_nonzero(ii)+np.count_nonzero(kk))\n",
    "    FalseNegative = np.count_nonzero(ll)/(np.count_nonzero(jj)+np.count_nonzero(ll))\n",
    "    tp.append(TruePositive)\n",
    "    fp.append(FalsePositive)\n",
    "    tn.append(TrueNegative)\n",
    "    fn.append(FalseNegative)\n",
    "\n",
    "\n",
    "\n",
    "recall = TruePositive/(TruePositive+FalseNegative)\n",
    "precision = TruePositive/(TruePositive+FalsePositive)"
   ]
  },
  {
   "cell_type": "code",
   "execution_count": null,
   "metadata": {},
   "outputs": [],
   "source": [
    "plt.plot(recall,precision)"
   ]
  },
  {
   "cell_type": "code",
   "execution_count": null,
   "metadata": {},
   "outputs": [],
   "source": []
  }
 ],
 "metadata": {
  "kernelspec": {
   "display_name": "Python 3",
   "language": "python",
   "name": "python3"
  },
  "language_info": {
   "codemirror_mode": {
    "name": "ipython",
    "version": 3
   },
   "file_extension": ".py",
   "mimetype": "text/x-python",
   "name": "python",
   "nbconvert_exporter": "python",
   "pygments_lexer": "ipython3",
   "version": "3.6.6"
  }
 },
 "nbformat": 4,
 "nbformat_minor": 2
}
