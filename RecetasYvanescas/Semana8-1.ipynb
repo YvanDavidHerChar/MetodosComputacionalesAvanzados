{
 "cells": [
  {
   "cell_type": "code",
   "execution_count": 1,
   "metadata": {},
   "outputs": [],
   "source": [
    "import numpy as np\n",
    "import matplotlib.pyplot as plt\n",
    "import pandas as pd\n",
    "%matplotlib inline"
   ]
  },
  {
   "cell_type": "code",
   "execution_count": 2,
   "metadata": {},
   "outputs": [
    {
     "data": {
      "text/plain": [
       "(93,)"
      ]
     },
     "execution_count": 2,
     "metadata": {},
     "output_type": "execute_result"
    }
   ],
   "source": [
    "data = pd.read_csv('Cars93.csv')\n",
    "X = np.array(data['Horsepower'])\n",
    "Y = np.array(data['Price'])\n",
    "y_sigma_obs = np.std(Y)\n",
    "np.shape(Y)"
   ]
  },
  {
   "cell_type": "code",
   "execution_count": 3,
   "metadata": {},
   "outputs": [],
   "source": [
    "def model(x, c):\n",
    "    n_dim = len(c)\n",
    "    y = c[0]\n",
    "    for i in range(n_dim-1):\n",
    "        y += c[i+1] * (x**i)\n",
    "    return y\n",
    "        \n",
    "def loglikelihood(x_obs, y_obs, y_sigma_obs, params):\n",
    "    y_model = model(x_obs, params)\n",
    "    d = -0.5 * ((y_model - y_obs)/y_sigma_obs)**2\n",
    "    norm = np.sqrt(2.0 * np.pi * y_sigma_obs **2)\n",
    "    return np.sum(d - np.log(norm))\n",
    "\n",
    "def logprior(param):\n",
    "    if np.any(param) < 2 and np.any(param) > -2:\n",
    "        p = 0\n",
    "    else:\n",
    "        p = -np.inf\n",
    "    return p"
   ]
  },
  {
   "cell_type": "code",
   "execution_count": 34,
   "metadata": {},
   "outputs": [],
   "source": [
    "def metropolis(x_obs, y_obs,y_sigma_obs,p, N = 1000):\n",
    "    l_param = [np.zeros(p)]\n",
    "    sigma_param = np.ones(p)/10\n",
    "    n_param = p\n",
    "    logposterior = [0]\n",
    "    for i in range(1,N):\n",
    "        propuesta  = l_param[i-1] + np.random.normal(size=n_param)*sigma_param\n",
    "        #print(propuesta)\n",
    "        logposterior_viejo = loglikelihood(x_obs, y_obs,y_sigma_obs, l_param[i-1]) + logprior(l_param[i-1])\n",
    "        logposterior_nuevo = loglikelihood(x_obs, y_obs,y_sigma_obs, propuesta) + logprior(propuesta)\n",
    "\n",
    "        r = min(1,np.exp(logposterior_nuevo-logposterior_viejo))\n",
    "        alpha = np.random.random()\n",
    "        if(alpha<r):\n",
    "            l_param.append(propuesta)\n",
    "            logposterior.append(logposterior_nuevo)\n",
    "        else:\n",
    "            l_param.append(l_param[i-1])\n",
    "            logposterior.append(logposterior_viejo)\n",
    "    \n",
    "    l_param = np.array(l_param)\n",
    "    logposterior = np.array(logposterior)\n",
    "    return l_param, logposterior"
   ]
  },
  {
   "cell_type": "code",
   "execution_count": 37,
   "metadata": {},
   "outputs": [],
   "source": [
    "def leaveOneOut(x,y,y_sigma):\n",
    "    MSE1 = []\n",
    "    MSE2 = []\n",
    "    fig = plt.figure(figsize=(15,6))\n",
    "    for i in range(1,10):\n",
    "        MSE1_aPromediar = []\n",
    "        MSE2_aPromediar = []\n",
    "        for j in range(len(y)):\n",
    "            y_test = []\n",
    "            x_test = []\n",
    "            y_test.append(x[j])\n",
    "            x_test.append(y[j])\n",
    "            y_test = np.array(y_test)\n",
    "            x_test = np.array(x_test)\n",
    "            y_training = np.delete(y,j,0)\n",
    "            x_training = np.delete(x,j,0)\n",
    "            param, posterior = metropolis(x_training, y_training,y_sigma,i)\n",
    "            model_training = model(x_training, np.mean(param, axis=0))\n",
    "            Error1 = 1/10*sum(((y_training-model(x_training,np.mean(param, axis=0)))/y_sigma)**2)\n",
    "            Error2 = 1/10*sum(((y_test-model(x_test,np.mean(param, axis=0)))/y_sigma)**2)\n",
    "            MSE1_aPromediar.append(Error1)\n",
    "            MSE2_aPromediar.append(Error2)\n",
    "        la=np.average(MSE1_aPromediar)\n",
    "        ba=np.average(MSE2_aPromediar)\n",
    "        MSE1.append(la)\n",
    "        MSE2.append(ba)\n",
    "    x = np.arange(9)\n",
    "    MSES = fig.add_subplot(121)\n",
    "    print(np.shape(MSE1))\n",
    "    MSES.plot(x,MSE1, label='Error del training')\n",
    "    MSES.plot(x,MSE2, label = 'Error del test')\n",
    "    MSES.legend(bbox_to_anchor=(0., 1.02, 1., .102), loc=3,ncol=2, mode=\"expand\", borderaxespad=0.)\n",
    "    fig.show()\n"
   ]
  },
  {
   "cell_type": "code",
   "execution_count": 38,
   "metadata": {},
   "outputs": [
    {
     "name": "stdout",
     "output_type": "stream",
     "text": [
      "(9,)\n"
     ]
    },
    {
     "name": "stderr",
     "output_type": "stream",
     "text": [
      "/srv/conda/lib/python3.6/site-packages/matplotlib/figure.py:448: UserWarning: Matplotlib is currently using module://ipykernel.pylab.backend_inline, which is a non-GUI backend, so cannot show the figure.\n",
      "  % get_backend())\n"
     ]
    },
    {
     "data": {
      "image/png": "[encoded data removed]",
      "text/plain": [
       "<Figure size 1080x432 with 1 Axes>"
      ]
     },
     "metadata": {
      "needs_background": "light"
     },
     "output_type": "display_data"
    }
   ],
   "source": [
    "leaveOneOut(X,Y,y_sigma_obs)"
   ]
  },
  {
   "cell_type": "code",
   "execution_count": 41,
   "metadata": {},
   "outputs": [],
   "source": [
    "def kFold(x,y,y_sigma,k):\n",
    "    MSE1 = []\n",
    "    MSE2 = []\n",
    "    fig = plt.figure(figsize=(20,15))\n",
    "    fittings = fig.add_subplot(121)\n",
    "    for i in range(1,10):\n",
    "        MSE1_aPromediar = []\n",
    "        MSE2_aPromediar = []\n",
    "        for j in range(k):\n",
    "            yes = np.split(y,k)\n",
    "            exices = np.split(x,k)\n",
    "            y_test = yes[j]\n",
    "            x_test = exices[j]\n",
    "            y_training = np.delete(yes,j,0)\n",
    "            x_training = np.delete(exices,j,0)\n",
    "            x_training=np.concatenate(x_training)\n",
    "            y_training=np.concatenate(y_training)\n",
    "            param, posterior = metropolis(x_training, y_training,y_sigma,i)\n",
    "            model_training = model(x_training, np.mean(param, axis=0))\n",
    "            Error1 = 1/10*sum(((y_training-model(x_training,np.mean(param, axis=0)))/y_sigma)**2)\n",
    "            Error2 = 1/10*sum(((y_test-model(x_test,np.mean(param, axis=0)))/y_sigma)**2)\n",
    "            MSE1_aPromediar.append(Error1)\n",
    "            MSE2_aPromediar.append(Error2)\n",
    "        la=np.average(MSE1_aPromediar)\n",
    "        ba=np.average(MSE2_aPromediar)\n",
    "        np.append(MSE1,la)\n",
    "        np.append(MSE2,ba)\n",
    "    x= np.arange(9)\n",
    "    MSES = fig.add_subplot(122)\n",
    "    print(np.shape(MSE1))\n",
    "    MSES.scatter(x,MSE1, label='Error del training')\n",
    "    MSES.scatter(x,MSE2, label = 'Error del test')\n",
    "    MSES.legend(bbox_to_anchor=(0., 1.02, 1., .102), loc=3,ncol=2, mode=\"expand\", borderaxespad=0.)\n",
    "    fig.show()\n"
   ]
  },
  {
   "cell_type": "code",
   "execution_count": 47,
   "metadata": {},
   "outputs": [
    {
     "ename": "ValueError",
     "evalue": "array split does not result in an equal division",
     "output_type": "error",
     "traceback": [
      "\u001b[0;31m---------------------------------------------------------------------------\u001b[0m",
      "\u001b[0;31mTypeError\u001b[0m                                 Traceback (most recent call last)",
      "\u001b[0;32m/srv/conda/lib/python3.6/site-packages/numpy/lib/shape_base.py\u001b[0m in \u001b[0;36msplit\u001b[0;34m(ary, indices_or_sections, axis)\u001b[0m\n\u001b[1;32m    777\u001b[0m     \u001b[0;32mtry\u001b[0m\u001b[0;34m:\u001b[0m\u001b[0;34m\u001b[0m\u001b[0m\n\u001b[0;32m--> 778\u001b[0;31m         \u001b[0mlen\u001b[0m\u001b[0;34m(\u001b[0m\u001b[0mindices_or_sections\u001b[0m\u001b[0;34m)\u001b[0m\u001b[0;34m\u001b[0m\u001b[0m\n\u001b[0m\u001b[1;32m    779\u001b[0m     \u001b[0;32mexcept\u001b[0m \u001b[0mTypeError\u001b[0m\u001b[0;34m:\u001b[0m\u001b[0;34m\u001b[0m\u001b[0m\n",
      "\u001b[0;31mTypeError\u001b[0m: object of type 'int' has no len()",
      "\nDuring handling of the above exception, another exception occurred:\n",
      "\u001b[0;31mValueError\u001b[0m                                Traceback (most recent call last)",
      "\u001b[0;32m<ipython-input-47-fe7fc07409b2>\u001b[0m in \u001b[0;36m<module>\u001b[0;34m()\u001b[0m\n\u001b[0;32m----> 1\u001b[0;31m \u001b[0mkFold\u001b[0m\u001b[0;34m(\u001b[0m\u001b[0mX\u001b[0m\u001b[0;34m,\u001b[0m\u001b[0mY\u001b[0m\u001b[0;34m,\u001b[0m\u001b[0my_sigma_obs\u001b[0m\u001b[0;34m,\u001b[0m\u001b[0;36m11\u001b[0m\u001b[0;34m)\u001b[0m\u001b[0;34m\u001b[0m\u001b[0m\n\u001b[0m",
      "\u001b[0;32m<ipython-input-41-0234b42fa2f3>\u001b[0m in \u001b[0;36mkFold\u001b[0;34m(x, y, y_sigma, k)\u001b[0m\n\u001b[1;32m      8\u001b[0m         \u001b[0mMSE2_aPromediar\u001b[0m \u001b[0;34m=\u001b[0m \u001b[0;34m[\u001b[0m\u001b[0;34m]\u001b[0m\u001b[0;34m\u001b[0m\u001b[0m\n\u001b[1;32m      9\u001b[0m         \u001b[0;32mfor\u001b[0m \u001b[0mj\u001b[0m \u001b[0;32min\u001b[0m \u001b[0mrange\u001b[0m\u001b[0;34m(\u001b[0m\u001b[0mk\u001b[0m\u001b[0;34m)\u001b[0m\u001b[0;34m:\u001b[0m\u001b[0;34m\u001b[0m\u001b[0m\n\u001b[0;32m---> 10\u001b[0;31m             \u001b[0myes\u001b[0m \u001b[0;34m=\u001b[0m \u001b[0mnp\u001b[0m\u001b[0;34m.\u001b[0m\u001b[0msplit\u001b[0m\u001b[0;34m(\u001b[0m\u001b[0my\u001b[0m\u001b[0;34m,\u001b[0m\u001b[0mk\u001b[0m\u001b[0;34m)\u001b[0m\u001b[0;34m\u001b[0m\u001b[0m\n\u001b[0m\u001b[1;32m     11\u001b[0m             \u001b[0mexices\u001b[0m \u001b[0;34m=\u001b[0m \u001b[0mnp\u001b[0m\u001b[0;34m.\u001b[0m\u001b[0msplit\u001b[0m\u001b[0;34m(\u001b[0m\u001b[0mx\u001b[0m\u001b[0;34m,\u001b[0m\u001b[0mk\u001b[0m\u001b[0;34m)\u001b[0m\u001b[0;34m\u001b[0m\u001b[0m\n\u001b[1;32m     12\u001b[0m             \u001b[0my_test\u001b[0m \u001b[0;34m=\u001b[0m \u001b[0myes\u001b[0m\u001b[0;34m[\u001b[0m\u001b[0mj\u001b[0m\u001b[0;34m]\u001b[0m\u001b[0;34m\u001b[0m\u001b[0m\n",
      "\u001b[0;32m/srv/conda/lib/python3.6/site-packages/numpy/lib/shape_base.py\u001b[0m in \u001b[0;36msplit\u001b[0;34m(ary, indices_or_sections, axis)\u001b[0m\n\u001b[1;32m    782\u001b[0m         \u001b[0;32mif\u001b[0m \u001b[0mN\u001b[0m \u001b[0;34m%\u001b[0m \u001b[0msections\u001b[0m\u001b[0;34m:\u001b[0m\u001b[0;34m\u001b[0m\u001b[0m\n\u001b[1;32m    783\u001b[0m             raise ValueError(\n\u001b[0;32m--> 784\u001b[0;31m                 'array split does not result in an equal division')\n\u001b[0m\u001b[1;32m    785\u001b[0m     \u001b[0mres\u001b[0m \u001b[0;34m=\u001b[0m \u001b[0marray_split\u001b[0m\u001b[0;34m(\u001b[0m\u001b[0mary\u001b[0m\u001b[0;34m,\u001b[0m \u001b[0mindices_or_sections\u001b[0m\u001b[0;34m,\u001b[0m \u001b[0maxis\u001b[0m\u001b[0;34m)\u001b[0m\u001b[0;34m\u001b[0m\u001b[0m\n\u001b[1;32m    786\u001b[0m     \u001b[0;32mreturn\u001b[0m \u001b[0mres\u001b[0m\u001b[0;34m\u001b[0m\u001b[0m\n",
      "\u001b[0;31mValueError\u001b[0m: array split does not result in an equal division"
     ]
    },
    {
     "data": {
      "image/png": "[encoded data removed]",
      "text/plain": [
       "<Figure size 1440x1080 with 1 Axes>"
      ]
     },
     "metadata": {
      "needs_background": "light"
     },
     "output_type": "display_data"
    }
   ],
   "source": [
    "#No me deja splitearlos pues no da una division entera\n",
    "kFold(X,Y,y_sigma_obs,7)\n"
   ]
  },
  {
   "cell_type": "code",
   "execution_count": null,
   "metadata": {},
   "outputs": [],
   "source": []
  }
 ],
 "metadata": {
  "kernelspec": {
   "display_name": "Python 3",
   "language": "python",
   "name": "python3"
  },
  "language_info": {
   "codemirror_mode": {
    "name": "ipython",
    "version": 3
   },
   "file_extension": ".py",
   "mimetype": "text/x-python",
   "name": "python",
   "nbconvert_exporter": "python",
   "pygments_lexer": "ipython3",
   "version": "3.6.6"
  }
 },
 "nbformat": 4,
 "nbformat_minor": 2
}
