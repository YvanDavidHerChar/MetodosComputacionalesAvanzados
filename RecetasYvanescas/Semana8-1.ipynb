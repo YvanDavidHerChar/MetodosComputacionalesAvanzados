{
 "cells": [
  {
   "cell_type": "code",
   "execution_count": 36,
   "metadata": {},
   "outputs": [],
   "source": [
    "import numpy as np\n",
    "import matplotlib.pyplot as plt\n",
    "import pandas as pd\n",
    "%matplotlib inline"
   ]
  },
  {
   "cell_type": "code",
   "execution_count": 42,
   "metadata": {},
   "outputs": [
    {
     "data": {
      "text/plain": [
       "(93,)"
      ]
     },
     "execution_count": 42,
     "metadata": {},
     "output_type": "execute_result"
    }
   ],
   "source": [
    "data = pd.read_csv('Cars93.csv')\n",
    "X = np.array(data['Horsepower'])\n",
    "Y = np.array(data['Price'])\n",
    "y_sigma_obs = np.std(Y)\n",
    "np.shape(Y)"
   ]
  },
  {
   "cell_type": "code",
   "execution_count": 43,
   "metadata": {},
   "outputs": [],
   "source": [
    "def model(x, c):\n",
    "    n_dim = len(c)\n",
    "    y = c[0]\n",
    "    for i in range(n_dim-1):\n",
    "        y += c[i+1] * (x**i)\n",
    "    return y\n",
    "        \n",
    "def loglikelihood(x_obs, y_obs, y_sigma_obs, params):\n",
    "    y_model = model(x_obs, params)\n",
    "    d = -0.5 * ((y_model - y_obs)/y_sigma_obs)**2\n",
    "    norm = np.sqrt(2.0 * np.pi * y_sigma_obs **2)\n",
    "    return np.sum(d - np.log(norm))\n",
    "\n",
    "def logprior(param):\n",
    "    if np.any(param) < 2 and np.any(param) > -2:\n",
    "        p = 0\n",
    "    else:\n",
    "        p = -np.inf\n",
    "    return p"
   ]
  },
  {
   "cell_type": "code",
   "execution_count": 44,
   "metadata": {},
   "outputs": [],
   "source": [
    "def metropolis(x_obs, y_obs,y_sigma_obs,p, N = 500):\n",
    "    l_param = [np.zeros(p)]\n",
    "    sigma_param = np.ones(p)/10\n",
    "    n_param = p\n",
    "    logposterior = [0]\n",
    "    for i in range(1,N):\n",
    "        propuesta  = l_param[i-1] + np.random.normal(size=n_param)*sigma_param\n",
    "        #print(propuesta)\n",
    "        logposterior_viejo = loglikelihood(x_obs, y_obs,y_sigma_obs, l_param[i-1]) + logprior(l_param[i-1])\n",
    "        logposterior_nuevo = loglikelihood(x_obs, y_obs,y_sigma_obs, propuesta) + logprior(propuesta)\n",
    "\n",
    "        r = min(1,np.exp(logposterior_nuevo-logposterior_viejo))\n",
    "        alpha = np.random.random()\n",
    "        if(alpha<r):\n",
    "            l_param.append(propuesta)\n",
    "            logposterior.append(logposterior_nuevo)\n",
    "        else:\n",
    "            l_param.append(l_param[i-1])\n",
    "            logposterior.append(logposterior_viejo)\n",
    "    \n",
    "    l_param = np.array(l_param)\n",
    "    logposterior = np.array(logposterior)\n",
    "    return l_param, logposterior"
   ]
  },
  {
   "cell_type": "code",
   "execution_count": null,
   "metadata": {},
   "outputs": [],
   "source": [
    "def leaveOneOut(x,y,y_sigma):\n",
    "    MSE1 = []\n",
    "    MSE2 = []\n",
    "    fig = plt.figure(figsize=(15,6))\n",
    "    fittings = fig.add_subplot(121)\n",
    "    for i in range(1,10):\n",
    "        MSE1_aPromediar = []\n",
    "        MSE2_aPromediar = []\n",
    "        for j in range(len(y)):\n",
    "            y_test = np.array(x[j])\n",
    "            x_test = np.array(y[j])\n",
    "            y_training = np.delete(Y,j,0)\n",
    "            x_training = np.delete(X,j,0)\n",
    "            param, posterior = metropolis(x_training, y_training,y_sigma,i)\n",
    "            model_training = model(x_training, np.mean(param, axis=0))\n",
    "            Error1 = 1/10*sum(((y_training-model(x_training,np.mean(param, axis=0)))/y_sigma)**2)\n",
    "            Error2 = 1/10*sum(((y-model(x,np.mean(param, axis=0)))/y_sigma)**2)\n",
    "            MSE1_aPromediar.append(Error1)\n",
    "            MSE2_aPromediar.append(Error2)\n",
    "        la=np.average(MSE1_aPromediar)\n",
    "        ba=np.average(MSE2_aPromediar)\n",
    "        MSE1.append(la)\n",
    "        MSE2.append(ba)\n",
    "    x = [range(1,10)]\n",
    "    MSES = fig.add_subplot(122)\n",
    "    print(np.shape(MSE1))\n",
    "    MSES.scatter(x,MSE1, label='Error del training')\n",
    "    MSES.scatter(x,MSE2, label = 'Error del test')\n",
    "    MSES.legend(bbox_to_anchor=(0., 1.02, 1., .102), loc=3,ncol=2, mode=\"expand\", borderaxespad=0.)\n",
    "    fig.show()\n"
   ]
  },
  {
   "cell_type": "code",
   "execution_count": null,
   "metadata": {},
   "outputs": [],
   "source": [
    "leaveOneOut(X,Y,y_sigma_obs)"
   ]
  },
  {
   "cell_type": "code",
   "execution_count": null,
   "metadata": {},
   "outputs": [],
   "source": [
    "def kFold(X,Y,y_sigma):\n",
    "    MSE1 = []\n",
    "    MSE2 = []\n",
    "    fig = plt.figure(figsize=(20,15))\n",
    "    fittings = fig.add_subplot(121)\n",
    "    for i in range(1,10):\n",
    "        p= len(y)\n",
    "        MSE1_aPromediar = []\n",
    "        MSE2_aPromediar = []\n",
    "        for j in range(p):\n",
    "            y_training = y\n",
    "            x_training = x\n",
    "            np.delete(y_training,j,0)\n",
    "            np.delete(y_training,j,0)\n",
    "            param, posterior = metropolis(x_training, y_training,y_sigma,i)\n",
    "            model_training = model(x_training, np.mean(param, axis=0))\n",
    "            Error1 = 1/10*sum(((y_training-model(x_training,np.mean(param, axis=0)))/y_sigma)**2)\n",
    "            Error2 = 1/10*sum(((y-model(x,np.mean(param, axis=0)))/y_sigma)**2)\n",
    "            MSE1_aPromediar.append(Error1)\n",
    "            MSE2_aPromediar.append(Error2)\n",
    "        la=np.average(MSE1_aPromediar)\n",
    "        ba=np.average(MSE2_aPromediar)\n",
    "        np.append(MSE1,la)\n",
    "        np.append(MSE2,ba)\n",
    "    x = [range(1,10)]\n",
    "    MSES = fig.add_subplot(122)\n",
    "    print(np.shape(MSE1))\n",
    "    MSES.scatter(x,MSE1, label='Error del training')\n",
    "    MSES.scatter(x,MSE2, label = 'Error del test')\n",
    "    MSES.legend(bbox_to_anchor=(0., 1.02, 1., .102), loc=3,ncol=2, mode=\"expand\", borderaxespad=0.)\n",
    "    fig.show()\n"
   ]
  }
 ],
 "metadata": {
  "kernelspec": {
   "display_name": "Python 3",
   "language": "python",
   "name": "python3"
  },
  "language_info": {
   "codemirror_mode": {
    "name": "ipython",
    "version": 3
   },
   "file_extension": ".py",
   "mimetype": "text/x-python",
   "name": "python",
   "nbconvert_exporter": "python",
   "pygments_lexer": "ipython3",
   "version": "3.6.6"
  }
 },
 "nbformat": 4,
 "nbformat_minor": 2
}
