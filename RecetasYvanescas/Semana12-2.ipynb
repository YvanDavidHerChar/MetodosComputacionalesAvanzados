{
 "cells": [
  {
   "cell_type": "code",
   "execution_count": 1,
   "metadata": {},
   "outputs": [],
   "source": [
    "from sklearn.decomposition import PCA\n",
    "import numpy as np\n",
    "import pandas as pd\n",
    "import matplotlib.pyplot as plt\n",
    "import sklearn.model_selection\n",
    "from sklearn.preprocessing import StandardScaler\n",
    "from sklearn.preprocessing import OneHotEncoder\n",
    "from sklearn.cluster import KMeans\n",
    "%matplotlib inline"
   ]
  },
  {
   "cell_type": "markdown",
   "metadata": {},
   "source": [
    "Para el primer punto hemos de calcular la inercia de las diferentes configuraciones de clusters para identificar el punto donde hay mas diferencia. Ese será el número óptimo de clusters. "
   ]
  },
  {
   "cell_type": "code",
   "execution_count": 7,
   "metadata": {},
   "outputs": [],
   "source": [
    "#importamos los datos, los limpiamos y usamos únicamente los espcificados en el enunciado. \n",
    "data = pd.read_csv('dengue.csv')\n",
    "data = data.dropna()\n",
    "data = data.drop(\"Unnamed: 0\",axis=1)\n",
    "X = np.array(data[['humid', 'temp' , 'h10pix', 'trees' , 'Xmin', 'Ymin']])\n",
    "#Los \"Normalizamos\"y trasnformamos.\n",
    "datosEscalados = StandardScaler().fit(X).transform(X)"
   ]
  },
  {
   "cell_type": "code",
   "execution_count": 8,
   "metadata": {},
   "outputs": [
    {
     "name": "stdout",
     "output_type": "stream",
     "text": [
      "[ 1  2  3  4  5  6  7  8  9 10 11 12 13 14]\n"
     ]
    },
    {
     "data": {
      "text/plain": [
       "[<matplotlib.lines.Line2D at 0x7fd569586978>]"
      ]
     },
     "execution_count": 8,
     "metadata": {},
     "output_type": "execute_result"
    },
    {
     "data": {
      "image/png": "[encoded data removed]",
      "text/plain": [
       "<Figure size 432x288 with 1 Axes>"
      ]
     },
     "metadata": {
      "needs_background": "light"
     },
     "output_type": "display_data"
    }
   ],
   "source": [
    "#Vamos en un primer tiempo, observa en que zona existe este brusco cambio. Por lo tanto intentaremos hasta 14 clusters.\n",
    "x = np.arange(1,15)\n",
    "print(x)\n",
    "inercias = []\n",
    "for i in x:\n",
    "    cluster = KMeans(n_clusters=i)\n",
    "    lanubecita = cluster.fit(datosEscalados)\n",
    "    inerciaAca = cluster.inertia_\n",
    "    inercias.append(inerciaAca)\n",
    "    \n",
    "#Hacemos una gráfica para visualizar los resultados\n",
    "plt.plot(x,inercias)"
   ]
  },
  {
   "cell_type": "markdown",
   "metadata": {},
   "source": [
    "Realizamos entonces que el número óptimo de clusters esta entre 1 y 4 clusters. Realicemos el mismo tratamiento pero enfocado en esta zona. "
   ]
  },
  {
   "cell_type": "code",
   "execution_count": 10,
   "metadata": {},
   "outputs": [
    {
     "name": "stdout",
     "output_type": "stream",
     "text": [
      "[1 2 3 4]\n"
     ]
    },
    {
     "data": {
      "text/plain": [
       "[<matplotlib.lines.Line2D at 0x7fd5694cfda0>]"
      ]
     },
     "execution_count": 10,
     "metadata": {},
     "output_type": "execute_result"
    },
    {
     "data": {
      "image/png": "[encoded data removed]",
      "text/plain": [
       "<Figure size 432x288 with 1 Axes>"
      ]
     },
     "metadata": {
      "needs_background": "light"
     },
     "output_type": "display_data"
    }
   ],
   "source": [
    "#Vamos en un segundo tiempo, observa en que zona existe este brusco cambio. Por lo tanto intentaremos hasta 4 clusters.\n",
    "x = np.arange(1,5)\n",
    "print(x)\n",
    "inercias = []\n",
    "for i in x:\n",
    "    cluster = KMeans(n_clusters=i)\n",
    "    lanubecita = cluster.fit(datosEscalados)\n",
    "    inerciaAca = cluster.inertia_\n",
    "    inercias.append(inerciaAca)\n",
    "    \n",
    "#Hacemos una gráfica para visualizar los resultados\n",
    "plt.plot(x,inercias)"
   ]
  },
  {
   "cell_type": "markdown",
   "metadata": {},
   "source": [
    "El cambio más brsco ocurre cuando pasamos a $\\textbf{2}$ clusters. Este es, por lo tanto, el número óptimo de clusters. "
   ]
  },
  {
   "cell_type": "markdown",
   "metadata": {},
   "source": [
    "Para el segundo punto, hemos primero de importar los datos. Sin embargo, se realiza rápidamente que estos datos estan en diferentes formatos (tiempos, fechas, tipos de compra). Se utiliza entonces OneHotEncoder para procesar los datos. "
   ]
  },
  {
   "cell_type": "code",
   "execution_count": 2,
   "metadata": {},
   "outputs": [],
   "source": [
    "datos = pd.read_csv('BreadBasket_DMS.csv')\n",
    "datos = datos.dropna()\n",
    "Y = np.array(datos[['Date', 'Time' , 'Transaction', 'Item']])\n",
    "#Lo que hace OneHotEncoder es mirar el número de categorias existentes y cada dato tendrá #PosiblesAtributos de columnas\n",
    "enc= OneHotEncoder()\n",
    "enc.fit(Y) \n",
    "#Vemos entonces que existen 4 categorias y que cada una tiene múltiples posiblidades. Un elemento se determinará como un\n",
    "#array de unos y ceros donde los 1, determinan cada una de las caracteristicas que le corresponden. \n",
    "enc.categories_\n",
    "Ytransformados = enc.transform(Y)"
   ]
  },
  {
   "cell_type": "code",
   "execution_count": 3,
   "metadata": {},
   "outputs": [
    {
     "name": "stdout",
     "output_type": "stream",
     "text": [
      "71372.00060837004\n"
     ]
    }
   ],
   "source": [
    "cluster = KMeans()\n",
    "lanubecita = cluster.fit(Ytransformados)\n",
    "inerciaAca = cluster.inertia_\n",
    "print(inerciaAca)"
   ]
  },
  {
   "cell_type": "code",
   "execution_count": null,
   "metadata": {},
   "outputs": [],
   "source": []
  }
 ],
 "metadata": {
  "kernelspec": {
   "display_name": "Python 3",
   "language": "python",
   "name": "python3"
  },
  "language_info": {
   "codemirror_mode": {
    "name": "ipython",
    "version": 3
   },
   "file_extension": ".py",
   "mimetype": "text/x-python",
   "name": "python",
   "nbconvert_exporter": "python",
   "pygments_lexer": "ipython3",
   "version": "3.6.6"
  }
 },
 "nbformat": 4,
 "nbformat_minor": 2
}
