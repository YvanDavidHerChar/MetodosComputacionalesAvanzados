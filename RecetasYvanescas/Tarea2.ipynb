{
 "cells": [
  {
   "cell_type": "code",
   "execution_count": 1,
   "metadata": {},
   "outputs": [],
   "source": [
    "import numpy as np\n",
    "import matplotlib \n",
    "matplotlib.use('Agg')\n",
    "import matplotlib.pyplot as plt\n",
    "import pandas as pd\n",
    "%matplotlib inline\n"
   ]
  },
  {
   "cell_type": "code",
   "execution_count": 2,
   "metadata": {},
   "outputs": [],
   "source": [
    "spamreader = pd.read_csv(\"badabybadabu.csv\")\n",
    "unano = spamreader[spamreader[\"Year\"]==2011]\n",
    "x_obs=np.array(unano[\"Health_expenditure_per_capita_PPP\"])\n",
    "y_obs=np.array(unano[\"Years_Lived_With_Disability\"])\n",
    "sigma_y_obs = np.std(y_obs)"
   ]
  },
  {
   "cell_type": "code",
   "execution_count": 3,
   "metadata": {},
   "outputs": [
    {
     "data": {
      "text/plain": [
       "<matplotlib.collections.PathCollection at 0x7f7c193f2b70>"
      ]
     },
     "execution_count": 3,
     "metadata": {},
     "output_type": "execute_result"
    },
    {
     "data": {
      "image/png": "[encoded data removed]",
      "text/plain": [
       "<Figure size 432x288 with 1 Axes>"
      ]
     },
     "metadata": {},
     "output_type": "display_data"
    }
   ],
   "source": [
    "plt.scatter(x_obs,y_obs)"
   ]
  },
  {
   "cell_type": "code",
   "execution_count": null,
   "metadata": {},
   "outputs": [],
   "source": [
    "#Definimos los modelos\n",
    "def modelo(mode,x,a,b,c):\n",
    "    if mode==1:\n",
    "        return a*np.log(x)+b\n",
    "    if mode ==2:\n",
    "        return a*np.sqrt(x)+b\n",
    "    if mode == 3:\n",
    "         return a*x**2+b*x+c\n",
    "\n",
    "#Definimos las likelihood\n",
    "def loglikelihood(mode,x_obs, y_obs, sigma_y_obs, a, b):\n",
    "    #Usando Chi cuadrado\n",
    "    e = np.log(1/(np.sqrt(2*x_obs*np.pi)))\n",
    "    e = e - x_obs/2\n",
    "    return  e\n",
    "\n",
    "#Definimos un prior\n",
    "def logprior(a, b,c=0):\n",
    "    p = np.random.random()\n",
    "    if a > 0.4 and b>2 and c>=0:\n",
    "        p = 0.0\n",
    "    return p\n",
    "\n",
    "\n",
    "N = 50000\n",
    "#Listas del Modelo 1\n",
    "lista_a1 = [np.random.random()]\n",
    "lista_b1 = [np.random.random()+min(y_obs)]\n",
    "\n",
    "#Listas del Modelo 2\n",
    "lista_a2 = [np.random.random()]\n",
    "lista_b2 = [np.random.random()+min(y_obs)]\n",
    "\n",
    "#Lista del Modelo 3\n",
    "lista_a = [np.random.random()]\n",
    "lista_b = [np.random.random()+min(y_obs)]\n",
    "lista_c = [np.random.random()]\n",
    "\n",
    "logposterior1 = [loglikelihood(1,x_obs, y_obs, sigma_y_obs, lista_a1[0], lista_b1[0]) + logprior(lista_a1[0], lista_b1[0])]\n",
    "logposterior2 = [loglikelihood(2,x_obs, y_obs, sigma_y_obs, lista_a2[0], lista_b2[0]) + logprior(lista_a2[0], lista_b2[0])]\n",
    "logposterior =  [loglikelihood(3,x_obs, y_obs, sigma_y_obs, lista_a[0], lista_b[0]) + logprior(lista_a[0], lista_b[0], lista_c[0])]\n",
    "\n",
    "#Los deltas de movimiento para cada modelo\n",
    "sigma_delta_a1 = 0.1\n",
    "sigma_delta_b1 = 0.5\n",
    "sigma_delta_a2 = 0.05\n",
    "sigma_delta_b2 = 0.5\n",
    "sigma_delta_a = 0.1\n",
    "sigma_delta_b = 0.1\n",
    "sigma_delta_c = 1\n",
    "\n",
    "for i in range(1,N):\n",
    "    propuesta_a1  = lista_a1[i-1] + np.random.normal(loc=0.0, scale=sigma_delta_a1)\n",
    "    propuesta_b1  = lista_b1[i-1] + np.random.normal(loc=0.0, scale=sigma_delta_b1)\n",
    "    \n",
    "    propuesta_a2  = lista_a2[i-1] + np.random.normal(loc=0.0, scale=sigma_delta_a2)\n",
    "    propuesta_b2  = lista_b2[i-1] + np.random.normal(loc=0.0, scale=sigma_delta_a2)\n",
    "\n",
    "    propuesta_a  = lista_a[i-1] + np.random.normal(loc=0.0, scale=sigma_delta_a)\n",
    "    propuesta_b  = lista_b[i-1] + np.random.normal(loc=0.0, scale=sigma_delta_b)\n",
    "    propuesta_c  = lista_c[i-1] + np.random.normal(loc=0.0, scale=sigma_delta_c)\n",
    "\n",
    "    \n",
    "    logposterior_viejo1 = loglikelihood(1,x_obs, y_obs, sigma_y_obs, lista_a1[i-1], lista_b1[i-1]) + logprior(lista_a1[i-1], lista_b1[i-1])\n",
    "    logposterior_nuevo1 = loglikelihood(1,x_obs, y_obs, sigma_y_obs, propuesta_a1, propuesta_b1) + logprior(propuesta_a1, propuesta_b1)\n",
    "    \n",
    "    logposterior_viejo2 = loglikelihood(2,x_obs, y_obs, sigma_y_obs, lista_a2[i-1], lista_b2[i-1]) + logprior(lista_a2[i-1], lista_b2[i-1])\n",
    "    logposterior_nuevo2 = loglikelihood(2,x_obs, y_obs, sigma_y_obs, propuesta_a2, propuesta_b2) + logprior(propuesta_a2, propuesta_b2)\n",
    "    \n",
    "    logposterior_viejo = loglikelihood(3,x_obs, y_obs, sigma_y_obs, lista_a[i-1], lista_b[i-1]) + logprior(lista_a[i-1], lista_b[i-1], lista_c[i-1])\n",
    "    logposterior_nuevo = loglikelihood(3,x_obs, y_obs, sigma_y_obs, propuesta_a, propuesta_b) + logprior(propuesta_a, propuesta_b, propuesta_c)\n",
    "\n",
    "    \n",
    "    r = 1-np.exp(logposterior_nuevo1[0]-logposterior_viejo1[0])\n",
    "    \n",
    "    r2 = 1-np.exp(logposterior_nuevo2[0]-logposterior_viejo2[0])\n",
    "\n",
    "    r3 = 1-np.exp(logposterior_nuevo[0]-logposterior_viejo[0])\n",
    "    \n",
    "    if(0<r):\n",
    "        lista_a1.append(propuesta_a1)\n",
    "        lista_b1.append(propuesta_b1)\n",
    "        logposterior1.append(logposterior_nuevo1)\n",
    "    else:\n",
    "        lista_a1.append(lista_a1[i-1])\n",
    "        lista_b1.append(lista_b1[i-1])\n",
    "        logposterior1.append(logposterior_viejo1) \n",
    "        \n",
    "    if(0<r2):\n",
    "        lista_a2.append(propuesta_a2)\n",
    "        lista_b2.append(propuesta_b2)\n",
    "        logposterior2.append(logposterior_nuevo2)\n",
    "    else:\n",
    "        lista_a2.append(lista_a2[i-1])\n",
    "        lista_b2.append(lista_b2[i-1])\n",
    "        logposterior2.append(logposterior_viejo2) \n",
    "        \n",
    "    if(0<r3):\n",
    "        lista_a.append(propuesta_a)\n",
    "        lista_b.append(propuesta_b)\n",
    "        lista_c.append(propuesta_c)\n",
    "        logposterior.append(logposterior_nuevo)\n",
    "    else:\n",
    "        lista_a.append(lista_a[i-1])\n",
    "        lista_b.append(lista_b[i-1])\n",
    "        lista_c.append(lista_c[i-1])\n",
    "        logposterior.append(logposterior_viejo) \n",
    "        \n",
    "lista_a1 = np.array(lista_a1)\n",
    "lista_b1 = np.array(lista_b1)\n",
    "logposterior1 = np.array(logposterior1)\n",
    "\n",
    "lista_a2 = np.array(lista_a2)\n",
    "lista_b2 = np.array(lista_b2)\n",
    "logposterior2 = np.array(logposterior2)\n",
    "\n",
    "lista_a = np.array(lista_a)\n",
    "lista_b = np.array(lista_b)\n",
    "lista_c = np.array(lista_c)\n",
    "logposterior = np.array(logposterior)\n",
    "\n",
    "new_x = np.linspace(0,10000,100)\n",
    "y_model1 = modelo(1,new_x,np.mean(lista_a1),np.mean(lista_b1),0)\n",
    "y_model2 = modelo(2,new_x,np.mean(lista_a2),np.mean(lista_b2),0)\n",
    "y_model3 = modelo(3,new_x,np.mean(lista_a2),np.mean(lista_b2), np.mean(lista_c))\n",
    "plt.scatter(x_obs,y_obs)\n",
    "plt.plot(new_x, y_model1)\n",
    "plt.plot(new_x, y_model2)\n",
    "plt.plot(new_x, y_model3)\n",
    "print ('Usando Modelo 1',np.mean(lista_a1),np.mean(lista_b1))\n",
    "\n",
    "print ('Usando Modelo 2',np.mean(lista_a2),np.mean(lista_b2))\n"
   ]
  },
  {
   "cell_type": "code",
   "execution_count": null,
   "metadata": {},
   "outputs": [],
   "source": [
    "plt.scatter(x_obs,y_obs)\n",
    "plt.plot(new_x, y_model1)\n",
    "plt.plot(new_x, y_model2)\n",
    "#plt.plot(new_x, y_model3)"
   ]
  },
  {
   "cell_type": "code",
   "execution_count": null,
   "metadata": {},
   "outputs": [],
   "source": []
  },
  {
   "cell_type": "code",
   "execution_count": null,
   "metadata": {},
   "outputs": [],
   "source": []
  }
 ],
 "metadata": {
  "kernelspec": {
   "display_name": "Python 3",
   "language": "python",
   "name": "python3"
  },
  "language_info": {
   "codemirror_mode": {
    "name": "ipython",
    "version": 3
   },
   "file_extension": ".py",
   "mimetype": "text/x-python",
   "name": "python",
   "nbconvert_exporter": "python",
   "pygments_lexer": "ipython3",
   "version": "3.6.5"
  }
 },
 "nbformat": 4,
 "nbformat_minor": 2
}
